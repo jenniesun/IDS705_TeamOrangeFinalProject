{
 "cells": [
  {
   "cell_type": "code",
   "execution_count": 1,
   "id": "informal-breathing",
   "metadata": {},
   "outputs": [],
   "source": [
    "import cv2 \n",
    "import pytesseract\n",
    "import numpy as np"
   ]
  },
  {
   "cell_type": "code",
   "execution_count": 2,
   "id": "sapphire-algeria",
   "metadata": {},
   "outputs": [],
   "source": [
    "stop_sign = cv2.imread('images/stop.jpeg')\n",
    "s2 = cv2.imread('images/s2.PNG')"
   ]
  },
  {
   "cell_type": "code",
   "execution_count": 3,
   "id": "experimental-emperor",
   "metadata": {},
   "outputs": [
    {
     "name": "stdout",
     "output_type": "stream",
     "text": [
      " \n",
      "\f",
      "\n"
     ]
    }
   ],
   "source": [
    "print(pytesseract.image_to_string(stop_sign))"
   ]
  },
  {
   "cell_type": "code",
   "execution_count": 4,
   "id": "communist-armenia",
   "metadata": {},
   "outputs": [
    {
     "name": "stdout",
     "output_type": "stream",
     "text": [
      "Stop Sign Here\n",
      "\f",
      "\n"
     ]
    }
   ],
   "source": [
    "print(pytesseract.image_to_string(s2))"
   ]
  },
  {
   "cell_type": "code",
   "execution_count": 5,
   "id": "rational-chase",
   "metadata": {},
   "outputs": [],
   "source": [
    "h, w, c = s2.shape\n",
    "boxes = pytesseract.image_to_boxes(s2) \n",
    "for b in boxes.splitlines():\n",
    "    b = b.split(' ')\n",
    "    s2 = cv2.rectangle(s2, (int(b[1]), h - int(b[2])), (int(b[3]), h - int(b[4])), (0, 255, 0), 2)\n",
    "\n",
    "cv2.imshow('stop_sign', s2)"
   ]
  },
  {
   "cell_type": "code",
   "execution_count": 6,
   "id": "cardiac-remains",
   "metadata": {},
   "outputs": [],
   "source": [
    "h, w, c = stop_sign.shape\n",
    "boxes = pytesseract.image_to_boxes(stop_sign) \n",
    "for b in boxes.splitlines():\n",
    "    b = b.split(' ')\n",
    "    schedule = cv2.rectangle(stop_sign, (int(b[1]), h - int(b[2])), (int(b[3]), h - int(b[4])), (0, 255, 0), 2)\n",
    "\n",
    "cv2.imshow('stop_sign', stop_sign)"
   ]
  },
  {
   "cell_type": "code",
   "execution_count": null,
   "id": "worth-cheat",
   "metadata": {},
   "outputs": [],
   "source": []
  }
 ],
 "metadata": {
  "kernelspec": {
   "display_name": "Python 3",
   "language": "python",
   "name": "python3"
  },
  "language_info": {
   "codemirror_mode": {
    "name": "ipython",
    "version": 3
   },
   "file_extension": ".py",
   "mimetype": "text/x-python",
   "name": "python",
   "nbconvert_exporter": "python",
   "pygments_lexer": "ipython3",
   "version": "3.8.5"
  }
 },
 "nbformat": 4,
 "nbformat_minor": 5
}
