{
 "cells": [
  {
   "cell_type": "code",
   "execution_count": 20,
   "id": "mathematical-vegetation",
   "metadata": {},
   "outputs": [],
   "source": [
    "import pickle\n",
    "import matplotlib.pyplot as plt\n",
    "from sklearn.model_selection import train_test_split\n",
    "import numpy as np\n",
    "pkl_file = open('char74.pkl', 'rb')\n",
    "data_reload = pickle.load(pkl_file)\n",
    "pkl_file.close()\n",
    "\n",
    "X = data_reload['X']\n",
    "y = data_reload['y']"
   ]
  },
  {
   "cell_type": "code",
   "execution_count": 28,
   "id": "useful-texture",
   "metadata": {},
   "outputs": [
    {
     "data": {
      "text/plain": [
       "<matplotlib.image.AxesImage at 0x7f84eb51a1c0>"
      ]
     },
     "execution_count": 28,
     "metadata": {},
     "output_type": "execute_result"
    },
    {
     "data": {
      "image/png": "[encoded data removed]",
      "text/plain": [
       "<Figure size 432x288 with 1 Axes>"
      ]
     },
     "metadata": {
      "needs_background": "light"
     },
     "output_type": "display_data"
    }
   ],
   "source": [
    "plt.imshow(X[5550])"
   ]
  },
  {
   "cell_type": "code",
   "execution_count": 29,
   "id": "lonely-annual",
   "metadata": {},
   "outputs": [
    {
     "data": {
      "text/plain": [
       "32"
      ]
     },
     "execution_count": 29,
     "metadata": {},
     "output_type": "execute_result"
    }
   ],
   "source": [
    "y[5550]"
   ]
  },
  {
   "cell_type": "code",
   "execution_count": 32,
   "id": "large-failure",
   "metadata": {},
   "outputs": [],
   "source": [
    "X = np.reshape(X, (7700, 784))"
   ]
  },
  {
   "cell_type": "code",
   "execution_count": 33,
   "id": "israeli-organization",
   "metadata": {},
   "outputs": [
    {
     "data": {
      "text/plain": [
       "(7700, 784)"
      ]
     },
     "execution_count": 33,
     "metadata": {},
     "output_type": "execute_result"
    }
   ],
   "source": [
    "X.shape"
   ]
  },
  {
   "cell_type": "code",
   "execution_count": 34,
   "id": "invalid-acrobat",
   "metadata": {},
   "outputs": [
    {
     "data": {
      "text/plain": [
       "(7700,)"
      ]
     },
     "execution_count": 34,
     "metadata": {},
     "output_type": "execute_result"
    }
   ],
   "source": [
    "y.shape"
   ]
  },
  {
   "cell_type": "code",
   "execution_count": 13,
   "id": "existing-mailman",
   "metadata": {},
   "outputs": [],
   "source": [
    "X_train, X_test, y_train, y_test = train_test_split(X, y, test_size=0.2, random_state=42)"
   ]
  },
  {
   "cell_type": "code",
   "execution_count": 14,
   "id": "progressive-harvard",
   "metadata": {},
   "outputs": [],
   "source": [
    "import matplotlib.pyplot as plt\n",
    "from sklearn import svm, metrics\n",
    "clf = svm.SVC()"
   ]
  },
  {
   "cell_type": "code",
   "execution_count": 15,
   "id": "revolutionary-delaware",
   "metadata": {},
   "outputs": [
    {
     "data": {
      "text/plain": [
       "SVC()"
      ]
     },
     "execution_count": 15,
     "metadata": {},
     "output_type": "execute_result"
    }
   ],
   "source": [
    "clf.fit(X_train, y_train)"
   ]
  },
  {
   "cell_type": "code",
   "execution_count": 16,
   "id": "ordinary-viewer",
   "metadata": {},
   "outputs": [
    {
     "name": "stdout",
     "output_type": "stream",
     "text": [
      "Classification report for classifier SVC():\n",
      "              precision    recall  f1-score   support\n",
      "\n",
      "           0       1.00      0.13      0.24        30\n",
      "           1       1.00      0.07      0.12        15\n",
      "           2       0.86      0.33      0.48        18\n",
      "           3       0.50      0.11      0.18         9\n",
      "           4       1.00      0.08      0.15        12\n",
      "           5       1.00      0.10      0.18        10\n",
      "           6       1.00      0.28      0.43        18\n",
      "           7       1.00      0.44      0.62         9\n",
      "           8       0.00      0.00      0.00        10\n",
      "           9       0.00      0.00      0.00         6\n",
      "          10       0.38      0.95      0.54       109\n",
      "          11       1.00      0.04      0.08        25\n",
      "          12       0.69      0.65      0.67        48\n",
      "          13       0.58      0.30      0.39        47\n",
      "          14       0.35      0.95      0.51        84\n",
      "          15       0.75      0.21      0.33        14\n",
      "          16       0.75      0.38      0.50        32\n",
      "          17       0.83      0.55      0.66        44\n",
      "          18       0.45      0.66      0.53        50\n",
      "          19       1.00      0.06      0.11        17\n",
      "          20       0.85      0.48      0.61        23\n",
      "          21       0.79      0.61      0.69        36\n",
      "          22       0.69      0.42      0.52        26\n",
      "          23       0.73      0.75      0.74        63\n",
      "          24       0.39      0.87      0.54        77\n",
      "          25       0.75      0.44      0.56        27\n",
      "          26       0.00      0.00      0.00         6\n",
      "          27       0.46      0.76      0.57        83\n",
      "          28       0.50      0.72      0.59        72\n",
      "          29       0.61      0.91      0.73        55\n",
      "          30       0.40      0.17      0.24        12\n",
      "          31       0.65      0.55      0.59        20\n",
      "          32       0.62      0.62      0.62        13\n",
      "          33       0.60      0.18      0.27        17\n",
      "          34       0.40      0.17      0.24        12\n",
      "          35       0.00      0.00      0.00        12\n",
      "          36       0.62      0.54      0.58        24\n",
      "          37       0.50      0.25      0.33         4\n",
      "          38       0.00      0.00      0.00        12\n",
      "          39       1.00      0.08      0.15        12\n",
      "          40       0.66      0.68      0.67        37\n",
      "          41       0.00      0.00      0.00         9\n",
      "          42       0.00      0.00      0.00        10\n",
      "          43       0.75      0.23      0.35        13\n",
      "          44       0.94      0.54      0.68        28\n",
      "          45       0.00      0.00      0.00         5\n",
      "          46       0.00      0.00      0.00         6\n",
      "          47       0.40      0.17      0.24        12\n",
      "          48       1.00      0.14      0.25        14\n",
      "          49       0.89      0.50      0.64        32\n",
      "          50       0.00      0.00      0.00        26\n",
      "          51       0.00      0.00      0.00         2\n",
      "          52       1.00      0.11      0.20         9\n",
      "          53       0.84      0.59      0.70        27\n",
      "          54       0.50      0.04      0.07        26\n",
      "          55       0.78      0.44      0.56        16\n",
      "          56       0.00      0.00      0.00        13\n",
      "          57       0.00      0.00      0.00         7\n",
      "          58       0.00      0.00      0.00        11\n",
      "          59       0.00      0.00      0.00         6\n",
      "          60       0.00      0.00      0.00        11\n",
      "          61       0.00      0.00      0.00         7\n",
      "\n",
      "    accuracy                           0.51      1540\n",
      "   macro avg       0.52      0.29      0.32      1540\n",
      "weighted avg       0.57      0.51      0.46      1540\n",
      "\n",
      "\n"
     ]
    },
    {
     "name": "stderr",
     "output_type": "stream",
     "text": [
      "/Users/shangwenyan/opt/miniconda3/lib/python3.8/site-packages/sklearn/metrics/_classification.py:1221: UndefinedMetricWarning: Precision and F-score are ill-defined and being set to 0.0 in labels with no predicted samples. Use `zero_division` parameter to control this behavior.\n",
      "  _warn_prf(average, modifier, msg_start, len(result))\n"
     ]
    }
   ],
   "source": [
    "predicted = clf.predict(X_test)\n",
    "print(f\"Classification report for classifier {clf}:\\n\"\n",
    "      f\"{metrics.classification_report(y_test, predicted)}\\n\")"
   ]
  },
  {
   "cell_type": "code",
   "execution_count": null,
   "id": "assisted-merchandise",
   "metadata": {},
   "outputs": [],
   "source": []
  }
 ],
 "metadata": {
  "kernelspec": {
   "display_name": "Python 3",
   "language": "python",
   "name": "python3"
  },
  "language_info": {
   "codemirror_mode": {
    "name": "ipython",
    "version": 3
   },
   "file_extension": ".py",
   "mimetype": "text/x-python",
   "name": "python",
   "nbconvert_exporter": "python",
   "pygments_lexer": "ipython3",
   "version": "3.8.5"
  }
 },
 "nbformat": 4,
 "nbformat_minor": 5
}
