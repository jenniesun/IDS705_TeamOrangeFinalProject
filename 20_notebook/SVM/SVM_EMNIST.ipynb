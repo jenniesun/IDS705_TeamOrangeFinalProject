{
 "cells": [
  {
   "cell_type": "code",
   "execution_count": 2,
   "id": "nearby-history",
   "metadata": {},
   "outputs": [],
   "source": [
    "import pandas as pd\n",
    "import numpy as np\n",
    "train = pd.read_csv(\"archive/emnist-balanced-train.csv\",header=None)\n",
    "test = pd.read_csv(\"archive/emnist-balanced-test.csv\",header=None)"
   ]
  },
  {
   "cell_type": "code",
   "execution_count": 3,
   "id": "nearby-efficiency",
   "metadata": {},
   "outputs": [],
   "source": [
    "X_train = train.iloc[:,1:].to_numpy()\n",
    "y_train = train.iloc[:,:1].to_numpy()\n",
    "X_test = test.iloc[:,1:].to_numpy()\n",
    "y_test = test.iloc[:,:1].to_numpy()"
   ]
  },
  {
   "cell_type": "code",
   "execution_count": 5,
   "id": "ignored-recruitment",
   "metadata": {},
   "outputs": [],
   "source": [
    "X_train = X_train.astype('float32')/255\n",
    "X_test = X_test.astype('float32')/255"
   ]
  },
  {
   "cell_type": "code",
   "execution_count": 17,
   "id": "colonial-painting",
   "metadata": {},
   "outputs": [
    {
     "data": {
      "text/plain": [
       "<matplotlib.image.AxesImage at 0x7f891b07f370>"
      ]
     },
     "execution_count": 17,
     "metadata": {},
     "output_type": "execute_result"
    },
    {
     "data": {
      "image/png": "[encoded data removed]",
      "text/plain": [
       "<Figure size 432x288 with 1 Axes>"
      ]
     },
     "metadata": {
      "needs_background": "light"
     },
     "output_type": "display_data"
    }
   ],
   "source": [
    "plt.imshow(np.reshape(X_train[0], (28, 28)))"
   ]
  },
  {
   "cell_type": "code",
   "execution_count": 6,
   "id": "subtle-float",
   "metadata": {},
   "outputs": [],
   "source": [
    "import matplotlib.pyplot as plt\n",
    "from sklearn import svm, metrics\n",
    "clf = svm.SVC()"
   ]
  },
  {
   "cell_type": "code",
   "execution_count": 7,
   "id": "domestic-carrier",
   "metadata": {},
   "outputs": [
    {
     "name": "stderr",
     "output_type": "stream",
     "text": [
      "/Users/shangwenyan/opt/miniconda3/lib/python3.8/site-packages/sklearn/utils/validation.py:72: DataConversionWarning: A column-vector y was passed when a 1d array was expected. Please change the shape of y to (n_samples, ), for example using ravel().\n",
      "  return f(**kwargs)\n"
     ]
    },
    {
     "data": {
      "text/plain": [
       "SVC()"
      ]
     },
     "execution_count": 7,
     "metadata": {},
     "output_type": "execute_result"
    }
   ],
   "source": [
    "clf.fit(X_train, y_train)"
   ]
  },
  {
   "cell_type": "code",
   "execution_count": 8,
   "id": "eastern-reach",
   "metadata": {},
   "outputs": [
    {
     "name": "stdout",
     "output_type": "stream",
     "text": [
      "Classification report for classifier SVC():\n",
      "              precision    recall  f1-score   support\n",
      "\n",
      "           0       0.65      0.75      0.69       400\n",
      "           1       0.54      0.73      0.62       400\n",
      "           2       0.88      0.85      0.86       400\n",
      "           3       0.96      0.96      0.96       400\n",
      "           4       0.86      0.89      0.87       400\n",
      "           5       0.88      0.82      0.85       400\n",
      "           6       0.89      0.91      0.90       400\n",
      "           7       0.94      0.96      0.95       400\n",
      "           8       0.86      0.88      0.87       400\n",
      "           9       0.62      0.84      0.72       400\n",
      "          10       0.91      0.92      0.92       400\n",
      "          11       0.88      0.91      0.90       400\n",
      "          12       0.91      0.92      0.91       400\n",
      "          13       0.86      0.87      0.86       400\n",
      "          14       0.96      0.92      0.94       400\n",
      "          15       0.68      0.52      0.59       400\n",
      "          16       0.91      0.86      0.88       400\n",
      "          17       0.92      0.92      0.92       400\n",
      "          18       0.66      0.65      0.65       400\n",
      "          19       0.87      0.88      0.87       400\n",
      "          20       0.91      0.91      0.91       400\n",
      "          21       0.62      0.46      0.53       400\n",
      "          22       0.91      0.94      0.92       400\n",
      "          23       0.89      0.92      0.90       400\n",
      "          24       0.70      0.65      0.67       400\n",
      "          25       0.90      0.94      0.92       400\n",
      "          26       0.85      0.90      0.87       400\n",
      "          27       0.92      0.89      0.91       400\n",
      "          28       0.85      0.89      0.87       400\n",
      "          29       0.92      0.91      0.91       400\n",
      "          30       0.90      0.91      0.91       400\n",
      "          31       0.91      0.90      0.90       400\n",
      "          32       0.97      0.97      0.97       400\n",
      "          33       0.96      0.90      0.93       400\n",
      "          34       0.87      0.83      0.85       400\n",
      "          35       0.88      0.88      0.88       400\n",
      "          36       0.80      0.85      0.82       400\n",
      "          37       0.90      0.90      0.90       400\n",
      "          38       0.89      0.93      0.91       400\n",
      "          39       0.94      0.92      0.93       400\n",
      "          40       0.61      0.70      0.65       400\n",
      "          41       0.75      0.53      0.62       400\n",
      "          42       0.90      0.90      0.90       400\n",
      "          43       0.92      0.88      0.90       400\n",
      "          44       0.66      0.50      0.57       400\n",
      "          45       0.88      0.93      0.91       400\n",
      "          46       0.84      0.84      0.84       400\n",
      "\n",
      "    accuracy                           0.84     18800\n",
      "   macro avg       0.84      0.84      0.84     18800\n",
      "weighted avg       0.84      0.84      0.84     18800\n",
      "\n",
      "\n"
     ]
    }
   ],
   "source": [
    "predicted = clf.predict(X_test)\n",
    "print(f\"Classification report for classifier {clf}:\\n\"\n",
    "      f\"{metrics.classification_report(y_test, predicted)}\\n\")"
   ]
  }
 ],
 "metadata": {
  "kernelspec": {
   "display_name": "Python 3",
   "language": "python",
   "name": "python3"
  },
  "language_info": {
   "codemirror_mode": {
    "name": "ipython",
    "version": 3
   },
   "file_extension": ".py",
   "mimetype": "text/x-python",
   "name": "python",
   "nbconvert_exporter": "python",
   "pygments_lexer": "ipython3",
   "version": "3.8.5"
  }
 },
 "nbformat": 4,
 "nbformat_minor": 5
}
