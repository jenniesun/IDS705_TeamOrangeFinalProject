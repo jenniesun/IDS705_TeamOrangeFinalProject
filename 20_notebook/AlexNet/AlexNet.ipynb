{
  "nbformat": 4,
  "nbformat_minor": 0,
  "metadata": {
    "accelerator": "GPU",
    "colab": {
      "name": "AlexNet.ipynb",
      "provenance": [],
      "collapsed_sections": []
    },
    "kernelspec": {
      "display_name": "Python 3",
      "name": "python3"
    },
    "language_info": {
      "name": "python"
    }
  },
  "cells": [
    {
      "cell_type": "code",
      "metadata": {
        "id": "FJnYxEYGOLSL"
      },
      "source": [
        "import tensorflow as tf"
      ],
      "execution_count": null,
      "outputs": []
    },
    {
      "cell_type": "code",
      "metadata": {
        "colab": {
          "base_uri": "https://localhost:8080/"
        },
        "id": "qZbbhQL3OP6F",
        "outputId": "e0ef7e50-407d-4916-9e89-0105ada647b8"
      },
      "source": [
        "import tensorflow as tf\n",
        "import keras\n",
        "from keras.models import Sequential\n",
        "from keras.layers import Dense, Activation, Dropout, Flatten, Conv2D, MaxPooling2D\n",
        "from keras.layers.normalization import BatchNormalization\n",
        "import numpy as np\n",
        "\n",
        "np.random.seed(1000)\n",
        "\n",
        "#Instantiation\n",
        "AlexNet = Sequential()\n",
        "\n",
        "#1st Convolutional Layer\n",
        "AlexNet.add(Conv2D(filters=96, input_shape=(28,28,1), kernel_size=(11,11), strides=(4,4), padding='same'))\n",
        "AlexNet.add(BatchNormalization())\n",
        "AlexNet.add(Activation('relu'))\n",
        "AlexNet.add(MaxPooling2D(pool_size=(2,2), strides=(2,2), padding='same'))\n",
        "\n",
        "#2nd Convolutional Layer\n",
        "AlexNet.add(Conv2D(filters=256, kernel_size=(5, 5), strides=(1,1), padding='same'))\n",
        "AlexNet.add(BatchNormalization())\n",
        "AlexNet.add(Activation('relu'))\n",
        "AlexNet.add(MaxPooling2D(pool_size=(2,2), strides=(2,2), padding='same'))\n",
        "\n",
        "#3rd Convolutional Layer\n",
        "AlexNet.add(Conv2D(filters=384, kernel_size=(3,3), strides=(1,1), padding='same'))\n",
        "AlexNet.add(BatchNormalization())\n",
        "AlexNet.add(Activation('relu'))\n",
        "\n",
        "#4th Convolutional Layer\n",
        "AlexNet.add(Conv2D(filters=384, kernel_size=(3,3), strides=(1,1), padding='same'))\n",
        "AlexNet.add(BatchNormalization())\n",
        "AlexNet.add(Activation('relu'))\n",
        "\n",
        "#5th Convolutional Layer\n",
        "AlexNet.add(Conv2D(filters=256, kernel_size=(3,3), strides=(1,1), padding='same'))\n",
        "AlexNet.add(BatchNormalization())\n",
        "AlexNet.add(Activation('relu'))\n",
        "AlexNet.add(MaxPooling2D(pool_size=(2,2), strides=(2,2), padding='same'))\n",
        "\n",
        "#Passing it to a Fully Connected layer\n",
        "AlexNet.add(Flatten())\n",
        "# 1st Fully Connected Layer\n",
        "AlexNet.add(Dense(4096, input_shape=(28,28,1,)))\n",
        "AlexNet.add(BatchNormalization())\n",
        "AlexNet.add(Activation('relu'))\n",
        "# Add Dropout to prevent overfitting\n",
        "AlexNet.add(Dropout(0.4))\n",
        "\n",
        "#2nd Fully Connected Layer\n",
        "AlexNet.add(Dense(4096))\n",
        "AlexNet.add(BatchNormalization())\n",
        "AlexNet.add(Activation('relu'))\n",
        "#Add Dropout\n",
        "AlexNet.add(Dropout(0.4))\n",
        "\n",
        "#3rd Fully Connected Layer\n",
        "AlexNet.add(Dense(1000))\n",
        "AlexNet.add(BatchNormalization())\n",
        "AlexNet.add(Activation('relu'))\n",
        "#Add Dropout\n",
        "AlexNet.add(Dropout(0.4))\n",
        "\n",
        "#Output Layer\n",
        "AlexNet.add(Dense(47))\n",
        "AlexNet.add(BatchNormalization())\n",
        "AlexNet.add(Activation('softmax'))\n",
        "\n",
        "#Model Summary\n",
        "AlexNet.summary()"
      ],
      "execution_count": null,
      "outputs": [
        {
          "output_type": "stream",
          "text": [
            "Model: \"sequential\"\n",
            "_________________________________________________________________\n",
            "Layer (type)                 Output Shape              Param #   \n",
            "=================================================================\n",
            "conv2d (Conv2D)              (None, 7, 7, 96)          11712     \n",
            "_________________________________________________________________\n",
            "batch_normalization (BatchNo (None, 7, 7, 96)          384       \n",
            "_________________________________________________________________\n",
            "activation (Activation)      (None, 7, 7, 96)          0         \n",
            "_________________________________________________________________\n",
            "max_pooling2d (MaxPooling2D) (None, 4, 4, 96)          0         \n",
            "_________________________________________________________________\n",
            "conv2d_1 (Conv2D)            (None, 4, 4, 256)         614656    \n",
            "_________________________________________________________________\n",
            "batch_normalization_1 (Batch (None, 4, 4, 256)         1024      \n",
            "_________________________________________________________________\n",
            "activation_1 (Activation)    (None, 4, 4, 256)         0         \n",
            "_________________________________________________________________\n",
            "max_pooling2d_1 (MaxPooling2 (None, 2, 2, 256)         0         \n",
            "_________________________________________________________________\n",
            "conv2d_2 (Conv2D)            (None, 2, 2, 384)         885120    \n",
            "_________________________________________________________________\n",
            "batch_normalization_2 (Batch (None, 2, 2, 384)         1536      \n",
            "_________________________________________________________________\n",
            "activation_2 (Activation)    (None, 2, 2, 384)         0         \n",
            "_________________________________________________________________\n",
            "conv2d_3 (Conv2D)            (None, 2, 2, 384)         1327488   \n",
            "_________________________________________________________________\n",
            "batch_normalization_3 (Batch (None, 2, 2, 384)         1536      \n",
            "_________________________________________________________________\n",
            "activation_3 (Activation)    (None, 2, 2, 384)         0         \n",
            "_________________________________________________________________\n",
            "conv2d_4 (Conv2D)            (None, 2, 2, 256)         884992    \n",
            "_________________________________________________________________\n",
            "batch_normalization_4 (Batch (None, 2, 2, 256)         1024      \n",
            "_________________________________________________________________\n",
            "activation_4 (Activation)    (None, 2, 2, 256)         0         \n",
            "_________________________________________________________________\n",
            "max_pooling2d_2 (MaxPooling2 (None, 1, 1, 256)         0         \n",
            "_________________________________________________________________\n",
            "flatten (Flatten)            (None, 256)               0         \n",
            "_________________________________________________________________\n",
            "dense (Dense)                (None, 4096)              1052672   \n",
            "_________________________________________________________________\n",
            "batch_normalization_5 (Batch (None, 4096)              16384     \n",
            "_________________________________________________________________\n",
            "activation_5 (Activation)    (None, 4096)              0         \n",
            "_________________________________________________________________\n",
            "dropout (Dropout)            (None, 4096)              0         \n",
            "_________________________________________________________________\n",
            "dense_1 (Dense)              (None, 4096)              16781312  \n",
            "_________________________________________________________________\n",
            "batch_normalization_6 (Batch (None, 4096)              16384     \n",
            "_________________________________________________________________\n",
            "activation_6 (Activation)    (None, 4096)              0         \n",
            "_________________________________________________________________\n",
            "dropout_1 (Dropout)          (None, 4096)              0         \n",
            "_________________________________________________________________\n",
            "dense_2 (Dense)              (None, 1000)              4097000   \n",
            "_________________________________________________________________\n",
            "batch_normalization_7 (Batch (None, 1000)              4000      \n",
            "_________________________________________________________________\n",
            "activation_7 (Activation)    (None, 1000)              0         \n",
            "_________________________________________________________________\n",
            "dropout_2 (Dropout)          (None, 1000)              0         \n",
            "_________________________________________________________________\n",
            "dense_3 (Dense)              (None, 47)                47047     \n",
            "_________________________________________________________________\n",
            "batch_normalization_8 (Batch (None, 47)                188       \n",
            "_________________________________________________________________\n",
            "activation_8 (Activation)    (None, 47)                0         \n",
            "=================================================================\n",
            "Total params: 25,744,459\n",
            "Trainable params: 25,723,229\n",
            "Non-trainable params: 21,230\n",
            "_________________________________________________________________\n"
          ],
          "name": "stdout"
        }
      ]
    },
    {
      "cell_type": "code",
      "metadata": {
        "id": "cJafeBaRVc1z"
      },
      "source": [
        "# Compiling the model\n",
        "AlexNet.compile(loss = keras.losses.categorical_crossentropy, optimizer= 'adam', metrics=['accuracy'])"
      ],
      "execution_count": null,
      "outputs": []
    },
    {
      "cell_type": "code",
      "metadata": {
        "id": "YmRZWUjpKu3n"
      },
      "source": [
        "# Code to read csv file into Colaboratory:\n",
        "!pip install -U -q PyDrive\n",
        "from pydrive.auth import GoogleAuth\n",
        "from pydrive.drive import GoogleDrive\n",
        "from google.colab import auth\n",
        "from oauth2client.client import GoogleCredentials\n",
        "# Authenticate and create the PyDrive client.\n",
        "auth.authenticate_user()\n",
        "gauth = GoogleAuth()\n",
        "gauth.credentials = GoogleCredentials.get_application_default()\n",
        "drive = GoogleDrive(gauth)\n",
        "\n"
      ],
      "execution_count": null,
      "outputs": []
    },
    {
      "cell_type": "code",
      "metadata": {
        "id": "tqi9YiThMeIp"
      },
      "source": [
        "id_train = '16eqqRB8yIhsiESl91kWHFlkrWQ9Jzobo'\n",
        "id_test = '1qf_U_71d9-qicwZC4baRqFFwnIbm1eIh'"
      ],
      "execution_count": null,
      "outputs": []
    },
    {
      "cell_type": "code",
      "metadata": {
        "id": "m3kMLh7gLGiO"
      },
      "source": [
        "import pandas as pd\n",
        "downloaded = drive.CreateFile({'id':id_train}) \n",
        "downloaded.GetContentFile('emnist-balanced-train.csv')  \n",
        "training_df = pd.read_csv('emnist-balanced-train.csv')\n",
        "downloaded = drive.CreateFile({'id':id_test}) \n",
        "downloaded.GetContentFile('emnist-balanced-test.csv')  \n",
        "testing_df = pd.read_csv('emnist-balanced-test.csv')"
      ],
      "execution_count": null,
      "outputs": []
    },
    {
      "cell_type": "code",
      "metadata": {
        "id": "5hCZ1IfjP4iZ"
      },
      "source": [
        "testing_df = pd.read_csv('emnist-balanced-test.csv', header = None)\n",
        "training_df = pd.read_csv('emnist-balanced-train.csv', header = None)"
      ],
      "execution_count": null,
      "outputs": []
    },
    {
      "cell_type": "code",
      "metadata": {
        "id": "2z9QjEpiQsaH"
      },
      "source": [
        "training_X = (training_df.loc[:, training_df.columns != 0]).to_numpy()\n",
        "training_y = (training_df.iloc[:,0]).to_numpy()\n",
        "testing_X = (testing_df.loc[:, testing_df.columns != 0]).to_numpy()\n",
        "testing_y = (testing_df.iloc[:,0]).to_numpy()"
      ],
      "execution_count": null,
      "outputs": []
    },
    {
      "cell_type": "code",
      "metadata": {
        "id": "HRsUFmQ7aYvC"
      },
      "source": [
        "# normalize  by 255\n",
        "training_X = training_X.astype('float32')/255\n",
        "testing_X = testing_X.astype('float32')/255"
      ],
      "execution_count": null,
      "outputs": []
    },
    {
      "cell_type": "code",
      "metadata": {
        "id": "hikPQxNfYBl6"
      },
      "source": [
        "training_X = np.array([a.reshape(28,28) for a in training_X])\n",
        "testing_X = np.array([a.reshape(28,28) for a in testing_X])"
      ],
      "execution_count": null,
      "outputs": []
    },
    {
      "cell_type": "code",
      "metadata": {
        "colab": {
          "base_uri": "https://localhost:8080/",
          "height": 130
        },
        "id": "0ZRC25wtMtxg",
        "outputId": "9bc06cb5-32dd-4a93-e854-a09938ae22a1"
      },
      "source": [
        "import matplotlib.pyplot as plt\n",
        "a = 2\n",
        "b = 10\n",
        "c = 1\n",
        "plt.figure(figsize=(14, 8))\n",
        "plt.rcParams.update({'font.size': 10})\n",
        "\n",
        "for i in range(0,10):\n",
        "    plt.subplot(a, b, c)\n",
        "    graph = training_X[i]\n",
        "    plt.title(f\"{training_y[i]}\")\n",
        "    plt.imshow(graph, interpolation='nearest')\n",
        "    c+=1\n"
      ],
      "execution_count": null,
      "outputs": [
        {
          "output_type": "display_data",
          "data": {
            "image/png": "[encoded data removed]",
            "text/plain": [
              "<Figure size 1008x576 with 10 Axes>"
            ]
          },
          "metadata": {
            "tags": []
          }
        }
      ]
    },
    {
      "cell_type": "code",
      "metadata": {
        "id": "yMVdwaMoT3Xd"
      },
      "source": [
        "from sklearn.model_selection import train_test_split\n",
        "train_X,val_X,train_y,val_y=train_test_split(training_X,training_y,test_size=.3)"
      ],
      "execution_count": null,
      "outputs": []
    },
    {
      "cell_type": "code",
      "metadata": {
        "colab": {
          "base_uri": "https://localhost:8080/"
        },
        "id": "jKGF1UHackx2",
        "outputId": "3ddf421a-d82c-4ce6-8820-6db828ee0033"
      },
      "source": [
        "#Verifying the dimension \n",
        "print((train_X.shape,train_y.shape))\n",
        "print((val_X.shape,val_y.shape))\n",
        "print((testing_X.shape,testing_y.shape))"
      ],
      "execution_count": null,
      "outputs": [
        {
          "output_type": "stream",
          "text": [
            "((78960, 28, 28), (78960,))\n",
            "((33840, 28, 28), (33840,))\n",
            "((18800, 28, 28), (18800,))\n"
          ],
          "name": "stdout"
        }
      ]
    },
    {
      "cell_type": "code",
      "metadata": {
        "colab": {
          "base_uri": "https://localhost:8080/"
        },
        "id": "jwXJFE1dY8qL",
        "outputId": "7ffe3c37-48ff-495e-92eb-202b8b4a8aa2"
      },
      "source": [
        "# reshape X to add another dimension\n",
        "train_X = np.expand_dims(train_X, axis=3)\n",
        "val_X = np.expand_dims(val_X, axis=3)\n",
        "testing_X = np.expand_dims(testing_X, axis=3)\n",
        "\n",
        "#Verifying the dimension after one hot encoding\n",
        "print((train_X.shape,train_y.shape))\n",
        "print((val_X.shape,val_y.shape))\n",
        "print((testing_X.shape,testing_y.shape))"
      ],
      "execution_count": null,
      "outputs": [
        {
          "output_type": "stream",
          "text": [
            "((78960, 28, 28, 1), (78960,))\n",
            "((33840, 28, 28, 1), (33840,))\n",
            "((18800, 28, 28, 1), (18800,))\n"
          ],
          "name": "stdout"
        }
      ]
    },
    {
      "cell_type": "code",
      "metadata": {
        "id": "t86kSt-gZHft"
      },
      "source": [
        "#Onehot Encoding the labels.\n",
        "from sklearn.utils.multiclass import unique_labels\n",
        "from keras.utils import to_categorical\n",
        "#Since we have 47 classes we should expect the shape[1] of y_train,y_val and y_test to change from 1 to 10\n",
        "train_y=to_categorical(train_y, num_classes = 47)\n",
        "val_y=to_categorical(val_y, num_classes = 47)\n",
        "testing_y=to_categorical(testing_y, num_classes = 47)"
      ],
      "execution_count": null,
      "outputs": []
    },
    {
      "cell_type": "code",
      "metadata": {
        "colab": {
          "base_uri": "https://localhost:8080/"
        },
        "id": "WjgDl__5d7pE",
        "outputId": "487c2bc8-71cc-49df-f63a-f43bb112aefe"
      },
      "source": [
        "#Verifying the dimension after one hot encoding\n",
        "print((train_X.shape,train_y.shape))\n",
        "print((val_X.shape,val_y.shape))\n",
        "print((testing_X.shape,testing_y.shape))"
      ],
      "execution_count": null,
      "outputs": [
        {
          "output_type": "stream",
          "text": [
            "((78960, 28, 28, 1), (78960, 47))\n",
            "((33840, 28, 28, 1), (33840, 47))\n",
            "((18800, 28, 28, 1), (18800, 47))\n"
          ],
          "name": "stdout"
        }
      ]
    },
    {
      "cell_type": "code",
      "metadata": {
        "id": "cdmj83gea1-S"
      },
      "source": [
        "#Image Data Augmentation\n",
        "from keras.preprocessing.image import ImageDataGenerator\n",
        "\n",
        "train_generator = ImageDataGenerator(rotation_range=2, horizontal_flip=True,zoom_range=.1 )\n",
        "\n",
        "val_generator = ImageDataGenerator(rotation_range=2, horizontal_flip=True,zoom_range=.1)\n",
        "\n",
        "test_generator = ImageDataGenerator(rotation_range=2, horizontal_flip= True,zoom_range=.1)\n",
        "\n",
        "#Fitting the augmentation defined above to the data\n",
        "train_generator.fit(train_X)\n",
        "val_generator.fit(val_X)\n",
        "test_generator.fit(testing_X)"
      ],
      "execution_count": null,
      "outputs": []
    },
    {
      "cell_type": "code",
      "metadata": {
        "id": "GOq-kCifbKyo"
      },
      "source": [
        "#Learning Rate Annealer\n",
        "from keras.callbacks import ReduceLROnPlateau\n",
        "lrr= ReduceLROnPlateau(monitor='val_accuracy', actor=.01, patience=3, min_lr=1e-5) "
      ],
      "execution_count": null,
      "outputs": []
    },
    {
      "cell_type": "code",
      "metadata": {
        "id": "IuH8OUNzf4Ye"
      },
      "source": [
        "#Defining the parameters\n",
        "batch_size= 320\n",
        "epochs=150\n",
        "learn_rate=.000025"
      ],
      "execution_count": null,
      "outputs": []
    },
    {
      "cell_type": "code",
      "metadata": {
        "colab": {
          "base_uri": "https://localhost:8080/"
        },
        "id": "6-OBiOhqf6sl",
        "outputId": "de2ea986-6d5b-4e45-a053-30dd015c2050"
      },
      "source": [
        "#Training the model\n",
        "AlexNet.fit_generator(train_generator.flow(train_X, train_y, batch_size=batch_size), epochs = epochs,  steps_per_epoch = train_X.shape[0]//batch_size,\n",
        "                      validation_data = val_generator.flow(val_X, val_y, batch_size=batch_size), validation_steps =  val_X.shape[0]//batch_size, callbacks = [lrr], verbose=1)"
      ],
      "execution_count": null,
      "outputs": [
        {
          "output_type": "stream",
          "text": [
            "/usr/local/lib/python3.7/dist-packages/tensorflow/python/keras/engine/training.py:1844: UserWarning: `Model.fit_generator` is deprecated and will be removed in a future version. Please use `Model.fit`, which supports generators.\n",
            "  warnings.warn('`Model.fit_generator` is deprecated and '\n"
          ],
          "name": "stderr"
        },
        {
          "output_type": "stream",
          "text": [
            "Epoch 1/150\n",
            "246/246 [==============================] - 29s 100ms/step - loss: 2.0586 - accuracy: 0.4656 - val_loss: 3.7198 - val_accuracy: 0.1038\n",
            "Epoch 2/150\n",
            "246/246 [==============================] - 23s 93ms/step - loss: 0.8449 - accuracy: 0.7615 - val_loss: 3.3921 - val_accuracy: 0.1575\n",
            "Epoch 3/150\n",
            "246/246 [==============================] - 23s 93ms/step - loss: 0.7101 - accuracy: 0.7836 - val_loss: 3.8683 - val_accuracy: 0.0828\n",
            "Epoch 4/150\n",
            "246/246 [==============================] - 23s 94ms/step - loss: 0.6450 - accuracy: 0.8017 - val_loss: 2.5194 - val_accuracy: 0.4726\n",
            "Epoch 5/150\n",
            "246/246 [==============================] - 23s 92ms/step - loss: 0.5854 - accuracy: 0.8150 - val_loss: 2.6803 - val_accuracy: 0.2802\n",
            "Epoch 6/150\n",
            "246/246 [==============================] - 23s 93ms/step - loss: 0.5645 - accuracy: 0.8179 - val_loss: 2.4193 - val_accuracy: 0.3570\n",
            "Epoch 7/150\n",
            "246/246 [==============================] - 23s 92ms/step - loss: 0.5422 - accuracy: 0.8230 - val_loss: 2.0146 - val_accuracy: 0.4838\n",
            "Epoch 8/150\n",
            "246/246 [==============================] - 23s 92ms/step - loss: 0.5148 - accuracy: 0.8312 - val_loss: 2.1899 - val_accuracy: 0.4010\n",
            "Epoch 9/150\n",
            "246/246 [==============================] - 22s 91ms/step - loss: 0.4918 - accuracy: 0.8356 - val_loss: 1.9091 - val_accuracy: 0.4626\n",
            "Epoch 10/150\n",
            "246/246 [==============================] - 22s 91ms/step - loss: 0.4867 - accuracy: 0.8349 - val_loss: 2.9997 - val_accuracy: 0.1994\n",
            "Epoch 11/150\n",
            "246/246 [==============================] - 23s 92ms/step - loss: 0.4354 - accuracy: 0.8509 - val_loss: 0.4733 - val_accuracy: 0.8404\n",
            "Epoch 12/150\n",
            "246/246 [==============================] - 23s 93ms/step - loss: 0.3939 - accuracy: 0.8623 - val_loss: 0.4384 - val_accuracy: 0.8487\n",
            "Epoch 13/150\n",
            "246/246 [==============================] - 23s 93ms/step - loss: 0.3816 - accuracy: 0.8658 - val_loss: 0.4633 - val_accuracy: 0.8412\n",
            "Epoch 14/150\n",
            "246/246 [==============================] - 23s 92ms/step - loss: 0.3769 - accuracy: 0.8688 - val_loss: 0.4464 - val_accuracy: 0.8493\n",
            "Epoch 15/150\n",
            "246/246 [==============================] - 23s 92ms/step - loss: 0.3666 - accuracy: 0.8725 - val_loss: 0.4749 - val_accuracy: 0.8391\n",
            "Epoch 16/150\n",
            "246/246 [==============================] - 23s 92ms/step - loss: 0.3631 - accuracy: 0.8733 - val_loss: 0.4529 - val_accuracy: 0.8454\n",
            "Epoch 17/150\n",
            "246/246 [==============================] - 23s 92ms/step - loss: 0.3655 - accuracy: 0.8736 - val_loss: 0.4426 - val_accuracy: 0.8489\n",
            "Epoch 18/150\n",
            "246/246 [==============================] - 23s 92ms/step - loss: 0.3573 - accuracy: 0.8766 - val_loss: 0.3987 - val_accuracy: 0.8626\n",
            "Epoch 19/150\n",
            "246/246 [==============================] - 23s 92ms/step - loss: 0.3462 - accuracy: 0.8794 - val_loss: 0.4006 - val_accuracy: 0.8613\n",
            "Epoch 20/150\n",
            "246/246 [==============================] - 23s 92ms/step - loss: 0.3489 - accuracy: 0.8785 - val_loss: 0.4025 - val_accuracy: 0.8603\n",
            "Epoch 21/150\n",
            "246/246 [==============================] - 23s 92ms/step - loss: 0.3506 - accuracy: 0.8783 - val_loss: 0.4013 - val_accuracy: 0.8602\n",
            "Epoch 22/150\n",
            "246/246 [==============================] - 23s 92ms/step - loss: 0.3441 - accuracy: 0.8793 - val_loss: 0.4027 - val_accuracy: 0.8596\n",
            "Epoch 23/150\n",
            "246/246 [==============================] - 23s 92ms/step - loss: 0.3450 - accuracy: 0.8815 - val_loss: 0.4024 - val_accuracy: 0.8610\n",
            "Epoch 24/150\n",
            "246/246 [==============================] - 23s 91ms/step - loss: 0.3409 - accuracy: 0.8812 - val_loss: 0.4019 - val_accuracy: 0.8612\n",
            "Epoch 25/150\n",
            "246/246 [==============================] - 23s 92ms/step - loss: 0.3391 - accuracy: 0.8823 - val_loss: 0.4011 - val_accuracy: 0.8614\n",
            "Epoch 26/150\n",
            "246/246 [==============================] - 23s 92ms/step - loss: 0.3477 - accuracy: 0.8789 - val_loss: 0.4008 - val_accuracy: 0.8619\n",
            "Epoch 27/150\n",
            "246/246 [==============================] - 23s 93ms/step - loss: 0.3426 - accuracy: 0.8794 - val_loss: 0.3980 - val_accuracy: 0.8627\n",
            "Epoch 28/150\n",
            "246/246 [==============================] - 23s 92ms/step - loss: 0.3410 - accuracy: 0.8813 - val_loss: 0.4003 - val_accuracy: 0.8616\n",
            "Epoch 29/150\n",
            "246/246 [==============================] - 23s 92ms/step - loss: 0.3403 - accuracy: 0.8818 - val_loss: 0.3994 - val_accuracy: 0.8634\n",
            "Epoch 30/150\n",
            "246/246 [==============================] - 23s 92ms/step - loss: 0.3453 - accuracy: 0.8791 - val_loss: 0.3989 - val_accuracy: 0.8636\n",
            "Epoch 31/150\n",
            "246/246 [==============================] - 23s 92ms/step - loss: 0.3457 - accuracy: 0.8812 - val_loss: 0.4016 - val_accuracy: 0.8610\n",
            "Epoch 32/150\n",
            "246/246 [==============================] - 23s 92ms/step - loss: 0.3425 - accuracy: 0.8786 - val_loss: 0.4026 - val_accuracy: 0.8615\n",
            "Epoch 33/150\n",
            "246/246 [==============================] - 23s 93ms/step - loss: 0.3359 - accuracy: 0.8831 - val_loss: 0.3983 - val_accuracy: 0.8621\n",
            "Epoch 34/150\n",
            "246/246 [==============================] - 23s 92ms/step - loss: 0.3314 - accuracy: 0.8839 - val_loss: 0.4020 - val_accuracy: 0.8609\n",
            "Epoch 35/150\n",
            "246/246 [==============================] - 23s 92ms/step - loss: 0.3360 - accuracy: 0.8831 - val_loss: 0.4010 - val_accuracy: 0.8608\n",
            "Epoch 36/150\n",
            "246/246 [==============================] - 23s 93ms/step - loss: 0.3366 - accuracy: 0.8825 - val_loss: 0.4032 - val_accuracy: 0.8614\n",
            "Epoch 37/150\n",
            "246/246 [==============================] - 23s 92ms/step - loss: 0.3331 - accuracy: 0.8836 - val_loss: 0.3988 - val_accuracy: 0.8628\n",
            "Epoch 38/150\n",
            "246/246 [==============================] - 23s 92ms/step - loss: 0.3307 - accuracy: 0.8842 - val_loss: 0.3982 - val_accuracy: 0.8631\n",
            "Epoch 39/150\n",
            "246/246 [==============================] - 23s 92ms/step - loss: 0.3342 - accuracy: 0.8813 - val_loss: 0.4007 - val_accuracy: 0.8629\n",
            "Epoch 40/150\n",
            "246/246 [==============================] - 23s 93ms/step - loss: 0.3387 - accuracy: 0.8819 - val_loss: 0.4001 - val_accuracy: 0.8615\n",
            "Epoch 41/150\n",
            "246/246 [==============================] - 23s 93ms/step - loss: 0.3387 - accuracy: 0.8813 - val_loss: 0.4014 - val_accuracy: 0.8620\n",
            "Epoch 42/150\n",
            "246/246 [==============================] - 23s 92ms/step - loss: 0.3315 - accuracy: 0.8836 - val_loss: 0.4022 - val_accuracy: 0.8627\n",
            "Epoch 43/150\n",
            "246/246 [==============================] - 23s 92ms/step - loss: 0.3350 - accuracy: 0.8829 - val_loss: 0.4032 - val_accuracy: 0.8621\n",
            "Epoch 44/150\n",
            "246/246 [==============================] - 23s 93ms/step - loss: 0.3273 - accuracy: 0.8873 - val_loss: 0.3995 - val_accuracy: 0.8622\n",
            "Epoch 45/150\n",
            "246/246 [==============================] - 23s 92ms/step - loss: 0.3324 - accuracy: 0.8841 - val_loss: 0.3997 - val_accuracy: 0.8633\n",
            "Epoch 46/150\n",
            "246/246 [==============================] - 23s 93ms/step - loss: 0.3239 - accuracy: 0.8875 - val_loss: 0.3985 - val_accuracy: 0.8623\n",
            "Epoch 47/150\n",
            "246/246 [==============================] - 23s 94ms/step - loss: 0.3251 - accuracy: 0.8859 - val_loss: 0.4037 - val_accuracy: 0.8612\n",
            "Epoch 48/150\n",
            "246/246 [==============================] - 23s 93ms/step - loss: 0.3254 - accuracy: 0.8858 - val_loss: 0.4007 - val_accuracy: 0.8622\n",
            "Epoch 49/150\n",
            "246/246 [==============================] - 23s 93ms/step - loss: 0.3278 - accuracy: 0.8869 - val_loss: 0.4041 - val_accuracy: 0.8595\n",
            "Epoch 50/150\n",
            "246/246 [==============================] - 23s 93ms/step - loss: 0.3318 - accuracy: 0.8842 - val_loss: 0.4037 - val_accuracy: 0.8621\n",
            "Epoch 51/150\n",
            "246/246 [==============================] - 23s 93ms/step - loss: 0.3253 - accuracy: 0.8848 - val_loss: 0.3971 - val_accuracy: 0.8633\n",
            "Epoch 52/150\n",
            "246/246 [==============================] - 23s 93ms/step - loss: 0.3297 - accuracy: 0.8840 - val_loss: 0.4020 - val_accuracy: 0.8625\n",
            "Epoch 53/150\n",
            "246/246 [==============================] - 23s 93ms/step - loss: 0.3226 - accuracy: 0.8866 - val_loss: 0.4006 - val_accuracy: 0.8627\n",
            "Epoch 54/150\n",
            "246/246 [==============================] - 23s 94ms/step - loss: 0.3217 - accuracy: 0.8874 - val_loss: 0.4028 - val_accuracy: 0.8618\n",
            "Epoch 55/150\n",
            "246/246 [==============================] - 23s 93ms/step - loss: 0.3222 - accuracy: 0.8865 - val_loss: 0.4028 - val_accuracy: 0.8622\n",
            "Epoch 56/150\n",
            "246/246 [==============================] - 23s 93ms/step - loss: 0.3238 - accuracy: 0.8860 - val_loss: 0.4008 - val_accuracy: 0.8612\n",
            "Epoch 57/150\n",
            "246/246 [==============================] - 23s 94ms/step - loss: 0.3237 - accuracy: 0.8862 - val_loss: 0.4008 - val_accuracy: 0.8632\n",
            "Epoch 58/150\n",
            "246/246 [==============================] - 23s 93ms/step - loss: 0.3241 - accuracy: 0.8867 - val_loss: 0.4023 - val_accuracy: 0.8609\n",
            "Epoch 59/150\n",
            "246/246 [==============================] - 23s 94ms/step - loss: 0.3208 - accuracy: 0.8880 - val_loss: 0.4034 - val_accuracy: 0.8616\n",
            "Epoch 60/150\n",
            "246/246 [==============================] - 23s 93ms/step - loss: 0.3239 - accuracy: 0.8864 - val_loss: 0.4025 - val_accuracy: 0.8629\n",
            "Epoch 61/150\n",
            "246/246 [==============================] - 23s 93ms/step - loss: 0.3210 - accuracy: 0.8872 - val_loss: 0.4060 - val_accuracy: 0.8621\n",
            "Epoch 62/150\n",
            "246/246 [==============================] - 23s 93ms/step - loss: 0.3179 - accuracy: 0.8872 - val_loss: 0.4032 - val_accuracy: 0.8627\n",
            "Epoch 63/150\n",
            "246/246 [==============================] - 23s 93ms/step - loss: 0.3226 - accuracy: 0.8865 - val_loss: 0.4007 - val_accuracy: 0.8635\n",
            "Epoch 64/150\n",
            "246/246 [==============================] - 23s 93ms/step - loss: 0.3161 - accuracy: 0.8895 - val_loss: 0.4029 - val_accuracy: 0.8616\n",
            "Epoch 65/150\n",
            "246/246 [==============================] - 23s 94ms/step - loss: 0.3182 - accuracy: 0.8894 - val_loss: 0.4031 - val_accuracy: 0.8624\n",
            "Epoch 66/150\n",
            "246/246 [==============================] - 23s 92ms/step - loss: 0.3211 - accuracy: 0.8881 - val_loss: 0.4050 - val_accuracy: 0.8623\n",
            "Epoch 67/150\n",
            "246/246 [==============================] - 23s 94ms/step - loss: 0.3167 - accuracy: 0.8896 - val_loss: 0.4054 - val_accuracy: 0.8623\n",
            "Epoch 68/150\n",
            "246/246 [==============================] - 23s 93ms/step - loss: 0.3143 - accuracy: 0.8871 - val_loss: 0.4009 - val_accuracy: 0.8621\n",
            "Epoch 69/150\n",
            "246/246 [==============================] - 23s 94ms/step - loss: 0.3166 - accuracy: 0.8881 - val_loss: 0.4046 - val_accuracy: 0.8624\n",
            "Epoch 70/150\n",
            "246/246 [==============================] - 23s 94ms/step - loss: 0.3182 - accuracy: 0.8871 - val_loss: 0.4037 - val_accuracy: 0.8624\n",
            "Epoch 71/150\n",
            "246/246 [==============================] - 23s 93ms/step - loss: 0.3105 - accuracy: 0.8898 - val_loss: 0.4022 - val_accuracy: 0.8637\n",
            "Epoch 72/150\n",
            "246/246 [==============================] - 23s 93ms/step - loss: 0.3157 - accuracy: 0.8891 - val_loss: 0.4071 - val_accuracy: 0.8609\n",
            "Epoch 73/150\n",
            "246/246 [==============================] - 23s 92ms/step - loss: 0.3172 - accuracy: 0.8896 - val_loss: 0.4047 - val_accuracy: 0.8622\n",
            "Epoch 74/150\n",
            "246/246 [==============================] - 22s 91ms/step - loss: 0.3105 - accuracy: 0.8916 - val_loss: 0.4071 - val_accuracy: 0.8617\n",
            "Epoch 75/150\n",
            "246/246 [==============================] - 23s 93ms/step - loss: 0.3147 - accuracy: 0.8891 - val_loss: 0.4031 - val_accuracy: 0.8625\n",
            "Epoch 76/150\n",
            "246/246 [==============================] - 23s 93ms/step - loss: 0.3122 - accuracy: 0.8922 - val_loss: 0.4029 - val_accuracy: 0.8630\n",
            "Epoch 77/150\n",
            "246/246 [==============================] - 23s 93ms/step - loss: 0.3139 - accuracy: 0.8893 - val_loss: 0.4049 - val_accuracy: 0.8614\n",
            "Epoch 78/150\n",
            "246/246 [==============================] - 23s 93ms/step - loss: 0.3114 - accuracy: 0.8909 - val_loss: 0.4039 - val_accuracy: 0.8620\n",
            "Epoch 79/150\n",
            "246/246 [==============================] - 23s 93ms/step - loss: 0.3120 - accuracy: 0.8897 - val_loss: 0.4028 - val_accuracy: 0.8626\n",
            "Epoch 80/150\n",
            "246/246 [==============================] - 23s 93ms/step - loss: 0.3107 - accuracy: 0.8905 - val_loss: 0.4054 - val_accuracy: 0.8617\n",
            "Epoch 81/150\n",
            "246/246 [==============================] - 23s 93ms/step - loss: 0.3143 - accuracy: 0.8899 - val_loss: 0.4056 - val_accuracy: 0.8617\n",
            "Epoch 82/150\n",
            "246/246 [==============================] - 23s 93ms/step - loss: 0.3110 - accuracy: 0.8923 - val_loss: 0.4019 - val_accuracy: 0.8626\n",
            "Epoch 83/150\n",
            "246/246 [==============================] - 23s 93ms/step - loss: 0.3133 - accuracy: 0.8894 - val_loss: 0.4033 - val_accuracy: 0.8625\n",
            "Epoch 84/150\n",
            "246/246 [==============================] - 23s 93ms/step - loss: 0.3092 - accuracy: 0.8901 - val_loss: 0.4054 - val_accuracy: 0.8618\n",
            "Epoch 85/150\n",
            "246/246 [==============================] - 23s 94ms/step - loss: 0.3064 - accuracy: 0.8916 - val_loss: 0.4014 - val_accuracy: 0.8632\n",
            "Epoch 86/150\n",
            "246/246 [==============================] - 23s 94ms/step - loss: 0.3080 - accuracy: 0.8923 - val_loss: 0.4052 - val_accuracy: 0.8629\n",
            "Epoch 87/150\n",
            "246/246 [==============================] - 23s 93ms/step - loss: 0.3089 - accuracy: 0.8903 - val_loss: 0.4052 - val_accuracy: 0.8625\n",
            "Epoch 88/150\n",
            "246/246 [==============================] - 23s 93ms/step - loss: 0.3096 - accuracy: 0.8890 - val_loss: 0.4053 - val_accuracy: 0.8625\n",
            "Epoch 89/150\n",
            "246/246 [==============================] - 23s 94ms/step - loss: 0.3047 - accuracy: 0.8921 - val_loss: 0.4031 - val_accuracy: 0.8616\n",
            "Epoch 90/150\n",
            "246/246 [==============================] - 23s 94ms/step - loss: 0.3033 - accuracy: 0.8932 - val_loss: 0.4086 - val_accuracy: 0.8614\n",
            "Epoch 91/150\n",
            "246/246 [==============================] - 23s 94ms/step - loss: 0.3098 - accuracy: 0.8918 - val_loss: 0.4073 - val_accuracy: 0.8612\n",
            "Epoch 92/150\n",
            "246/246 [==============================] - 23s 92ms/step - loss: 0.3090 - accuracy: 0.8911 - val_loss: 0.4048 - val_accuracy: 0.8632\n",
            "Epoch 93/150\n",
            "246/246 [==============================] - 23s 93ms/step - loss: 0.3052 - accuracy: 0.8918 - val_loss: 0.4075 - val_accuracy: 0.8619\n",
            "Epoch 94/150\n",
            "246/246 [==============================] - 23s 92ms/step - loss: 0.3043 - accuracy: 0.8949 - val_loss: 0.4036 - val_accuracy: 0.8618\n",
            "Epoch 95/150\n",
            "246/246 [==============================] - 23s 93ms/step - loss: 0.3053 - accuracy: 0.8923 - val_loss: 0.4056 - val_accuracy: 0.8630\n",
            "Epoch 96/150\n",
            "246/246 [==============================] - 23s 93ms/step - loss: 0.3041 - accuracy: 0.8934 - val_loss: 0.4085 - val_accuracy: 0.8621\n",
            "Epoch 97/150\n",
            "246/246 [==============================] - 23s 92ms/step - loss: 0.3031 - accuracy: 0.8941 - val_loss: 0.4038 - val_accuracy: 0.8634\n",
            "Epoch 98/150\n",
            "246/246 [==============================] - 23s 94ms/step - loss: 0.3025 - accuracy: 0.8938 - val_loss: 0.4091 - val_accuracy: 0.8624\n",
            "Epoch 99/150\n",
            "246/246 [==============================] - 23s 94ms/step - loss: 0.3043 - accuracy: 0.8938 - val_loss: 0.4076 - val_accuracy: 0.8632\n",
            "Epoch 100/150\n",
            "246/246 [==============================] - 23s 92ms/step - loss: 0.3024 - accuracy: 0.8923 - val_loss: 0.4052 - val_accuracy: 0.8624\n",
            "Epoch 101/150\n",
            "246/246 [==============================] - 23s 93ms/step - loss: 0.3027 - accuracy: 0.8931 - val_loss: 0.4041 - val_accuracy: 0.8638\n",
            "Epoch 102/150\n",
            "246/246 [==============================] - 23s 93ms/step - loss: 0.3028 - accuracy: 0.8940 - val_loss: 0.4073 - val_accuracy: 0.8617\n",
            "Epoch 103/150\n",
            "246/246 [==============================] - 23s 93ms/step - loss: 0.3025 - accuracy: 0.8928 - val_loss: 0.4061 - val_accuracy: 0.8624\n",
            "Epoch 104/150\n",
            "246/246 [==============================] - 23s 94ms/step - loss: 0.3066 - accuracy: 0.8909 - val_loss: 0.4026 - val_accuracy: 0.8636\n",
            "Epoch 105/150\n",
            "246/246 [==============================] - 23s 92ms/step - loss: 0.3014 - accuracy: 0.8942 - val_loss: 0.4111 - val_accuracy: 0.8615\n",
            "Epoch 106/150\n",
            "246/246 [==============================] - 23s 92ms/step - loss: 0.3010 - accuracy: 0.8929 - val_loss: 0.4064 - val_accuracy: 0.8621\n",
            "Epoch 107/150\n",
            "246/246 [==============================] - 23s 92ms/step - loss: 0.2946 - accuracy: 0.8943 - val_loss: 0.4112 - val_accuracy: 0.8618\n",
            "Epoch 108/150\n",
            "246/246 [==============================] - 23s 93ms/step - loss: 0.2968 - accuracy: 0.8943 - val_loss: 0.4097 - val_accuracy: 0.8612\n",
            "Epoch 109/150\n",
            "246/246 [==============================] - 23s 93ms/step - loss: 0.3002 - accuracy: 0.8951 - val_loss: 0.4106 - val_accuracy: 0.8612\n",
            "Epoch 110/150\n",
            "246/246 [==============================] - 23s 92ms/step - loss: 0.3044 - accuracy: 0.8915 - val_loss: 0.4075 - val_accuracy: 0.8622\n",
            "Epoch 111/150\n",
            "246/246 [==============================] - 23s 93ms/step - loss: 0.2953 - accuracy: 0.8961 - val_loss: 0.4080 - val_accuracy: 0.8635\n",
            "Epoch 112/150\n",
            "246/246 [==============================] - 23s 93ms/step - loss: 0.2988 - accuracy: 0.8959 - val_loss: 0.4109 - val_accuracy: 0.8604\n",
            "Epoch 113/150\n",
            "246/246 [==============================] - 23s 93ms/step - loss: 0.2960 - accuracy: 0.8953 - val_loss: 0.4075 - val_accuracy: 0.8621\n",
            "Epoch 114/150\n",
            "246/246 [==============================] - 23s 93ms/step - loss: 0.2963 - accuracy: 0.8950 - val_loss: 0.4085 - val_accuracy: 0.8638\n",
            "Epoch 115/150\n",
            "246/246 [==============================] - 23s 93ms/step - loss: 0.2989 - accuracy: 0.8939 - val_loss: 0.4154 - val_accuracy: 0.8598\n",
            "Epoch 116/150\n",
            "246/246 [==============================] - 23s 93ms/step - loss: 0.2918 - accuracy: 0.8966 - val_loss: 0.4103 - val_accuracy: 0.8621\n",
            "Epoch 117/150\n",
            "246/246 [==============================] - 23s 94ms/step - loss: 0.2945 - accuracy: 0.8960 - val_loss: 0.4089 - val_accuracy: 0.8632\n",
            "Epoch 118/150\n",
            "246/246 [==============================] - 23s 94ms/step - loss: 0.2925 - accuracy: 0.8967 - val_loss: 0.4114 - val_accuracy: 0.8612\n",
            "Epoch 119/150\n",
            "246/246 [==============================] - 23s 94ms/step - loss: 0.2946 - accuracy: 0.8968 - val_loss: 0.4097 - val_accuracy: 0.8630\n",
            "Epoch 120/150\n",
            "246/246 [==============================] - 23s 93ms/step - loss: 0.2910 - accuracy: 0.8962 - val_loss: 0.4080 - val_accuracy: 0.8621\n",
            "Epoch 121/150\n",
            "246/246 [==============================] - 23s 93ms/step - loss: 0.2958 - accuracy: 0.8952 - val_loss: 0.4084 - val_accuracy: 0.8625\n",
            "Epoch 122/150\n",
            "246/246 [==============================] - 23s 93ms/step - loss: 0.2949 - accuracy: 0.8966 - val_loss: 0.4123 - val_accuracy: 0.8611\n",
            "Epoch 123/150\n",
            "246/246 [==============================] - 23s 95ms/step - loss: 0.2939 - accuracy: 0.8966 - val_loss: 0.4109 - val_accuracy: 0.8630\n",
            "Epoch 124/150\n",
            "246/246 [==============================] - 23s 95ms/step - loss: 0.2913 - accuracy: 0.8964 - val_loss: 0.4124 - val_accuracy: 0.8615\n",
            "Epoch 125/150\n",
            "246/246 [==============================] - 23s 94ms/step - loss: 0.2855 - accuracy: 0.8974 - val_loss: 0.4122 - val_accuracy: 0.8606\n",
            "Epoch 126/150\n",
            "246/246 [==============================] - 23s 94ms/step - loss: 0.2903 - accuracy: 0.8972 - val_loss: 0.4097 - val_accuracy: 0.8624\n",
            "Epoch 127/150\n",
            "246/246 [==============================] - 23s 95ms/step - loss: 0.2929 - accuracy: 0.8962 - val_loss: 0.4113 - val_accuracy: 0.8623\n",
            "Epoch 128/150\n",
            "246/246 [==============================] - 23s 94ms/step - loss: 0.2877 - accuracy: 0.8982 - val_loss: 0.4084 - val_accuracy: 0.8627\n",
            "Epoch 129/150\n",
            "246/246 [==============================] - 23s 94ms/step - loss: 0.2858 - accuracy: 0.8992 - val_loss: 0.4110 - val_accuracy: 0.8616\n",
            "Epoch 130/150\n",
            "246/246 [==============================] - 23s 94ms/step - loss: 0.2921 - accuracy: 0.8973 - val_loss: 0.4138 - val_accuracy: 0.8614\n",
            "Epoch 131/150\n",
            "246/246 [==============================] - 23s 94ms/step - loss: 0.2837 - accuracy: 0.8993 - val_loss: 0.4151 - val_accuracy: 0.8611\n",
            "Epoch 132/150\n",
            "246/246 [==============================] - 23s 93ms/step - loss: 0.2859 - accuracy: 0.8997 - val_loss: 0.4088 - val_accuracy: 0.8625\n",
            "Epoch 133/150\n",
            "246/246 [==============================] - 23s 93ms/step - loss: 0.2917 - accuracy: 0.8979 - val_loss: 0.4104 - val_accuracy: 0.8610\n",
            "Epoch 134/150\n",
            "246/246 [==============================] - 23s 93ms/step - loss: 0.2857 - accuracy: 0.8990 - val_loss: 0.4108 - val_accuracy: 0.8620\n",
            "Epoch 135/150\n",
            "246/246 [==============================] - 23s 93ms/step - loss: 0.2830 - accuracy: 0.8989 - val_loss: 0.4084 - val_accuracy: 0.8643\n",
            "Epoch 136/150\n",
            "246/246 [==============================] - 23s 92ms/step - loss: 0.2886 - accuracy: 0.8973 - val_loss: 0.4106 - val_accuracy: 0.8615\n",
            "Epoch 137/150\n",
            "246/246 [==============================] - 23s 94ms/step - loss: 0.2852 - accuracy: 0.8991 - val_loss: 0.4107 - val_accuracy: 0.8619\n",
            "Epoch 138/150\n",
            "246/246 [==============================] - 23s 93ms/step - loss: 0.2862 - accuracy: 0.8968 - val_loss: 0.4124 - val_accuracy: 0.8614\n",
            "Epoch 139/150\n",
            "246/246 [==============================] - 23s 93ms/step - loss: 0.2859 - accuracy: 0.8980 - val_loss: 0.4096 - val_accuracy: 0.8643\n",
            "Epoch 140/150\n",
            "246/246 [==============================] - 23s 93ms/step - loss: 0.2862 - accuracy: 0.8977 - val_loss: 0.4127 - val_accuracy: 0.8611\n",
            "Epoch 141/150\n",
            "246/246 [==============================] - 23s 93ms/step - loss: 0.2869 - accuracy: 0.8967 - val_loss: 0.4115 - val_accuracy: 0.8609\n",
            "Epoch 142/150\n",
            "246/246 [==============================] - 23s 93ms/step - loss: 0.2815 - accuracy: 0.8991 - val_loss: 0.4172 - val_accuracy: 0.8591\n",
            "Epoch 143/150\n",
            "246/246 [==============================] - 23s 93ms/step - loss: 0.2859 - accuracy: 0.8986 - val_loss: 0.4178 - val_accuracy: 0.8610\n",
            "Epoch 144/150\n",
            "246/246 [==============================] - 23s 94ms/step - loss: 0.2868 - accuracy: 0.8984 - val_loss: 0.4127 - val_accuracy: 0.8647\n",
            "Epoch 145/150\n",
            "246/246 [==============================] - 23s 94ms/step - loss: 0.2836 - accuracy: 0.8998 - val_loss: 0.4119 - val_accuracy: 0.8612\n",
            "Epoch 146/150\n",
            "246/246 [==============================] - 23s 93ms/step - loss: 0.2815 - accuracy: 0.8988 - val_loss: 0.4175 - val_accuracy: 0.8614\n",
            "Epoch 147/150\n",
            "246/246 [==============================] - 23s 93ms/step - loss: 0.2787 - accuracy: 0.9015 - val_loss: 0.4167 - val_accuracy: 0.8615\n",
            "Epoch 148/150\n",
            "246/246 [==============================] - 23s 94ms/step - loss: 0.2789 - accuracy: 0.9017 - val_loss: 0.4137 - val_accuracy: 0.8619\n",
            "Epoch 149/150\n",
            "246/246 [==============================] - 23s 93ms/step - loss: 0.2822 - accuracy: 0.8997 - val_loss: 0.4140 - val_accuracy: 0.8627\n",
            "Epoch 150/150\n",
            "246/246 [==============================] - 23s 95ms/step - loss: 0.2772 - accuracy: 0.9014 - val_loss: 0.4188 - val_accuracy: 0.8605\n"
          ],
          "name": "stdout"
        },
        {
          "output_type": "execute_result",
          "data": {
            "text/plain": [
              "<tensorflow.python.keras.callbacks.History at 0x7f9b0280ce90>"
            ]
          },
          "metadata": {
            "tags": []
          },
          "execution_count": 20
        }
      ]
    },
    {
      "cell_type": "code",
      "metadata": {
        "colab": {
          "base_uri": "https://localhost:8080/",
          "height": 285
        },
        "id": "1bbPIDaMV3aJ",
        "outputId": "77e9eb06-6aa8-47a4-b205-05c3b2078695"
      },
      "source": [
        "import matplotlib.pyplot as plt\n",
        "#Plotting the training and validation loss\n",
        "\n",
        "f,ax=plt.subplots(2,1) #Creates 2 subplots under 1 column\n",
        "\n",
        "#Assigning the first subplot to graph training loss and validation loss\n",
        "ax[0].plot(AlexNet.history.history['loss'],color='b',label='Training Loss')\n",
        "ax[0].plot(AlexNet.history.history['val_loss'],color='r',label='Validation Loss')\n",
        "\n",
        "#Plotting the training accuracy and validation accuracy\n",
        "ax[1].plot(AlexNet.history.history['accuracy'],color='b',label='Training  Accuracy')\n",
        "ax[1].plot(AlexNet.history.history['val_accuracy'],color='r',label='Validation Accuracy')\n",
        "\n",
        "plt.legend()"
      ],
      "execution_count": null,
      "outputs": [
        {
          "output_type": "execute_result",
          "data": {
            "text/plain": [
              "<matplotlib.legend.Legend at 0x7f9b0236da10>"
            ]
          },
          "metadata": {
            "tags": []
          },
          "execution_count": 21
        },
        {
          "output_type": "display_data",
          "data": {
            "image/png": "[encoded data removed]",
            "text/plain": [
              "<Figure size 432x288 with 2 Axes>"
            ]
          },
          "metadata": {
            "tags": []
          }
        }
      ]
    },
    {
      "cell_type": "code",
      "metadata": {
        "colab": {
          "base_uri": "https://localhost:8080/"
        },
        "id": "lhq_sw4ngKbJ",
        "outputId": "45e24637-5a3f-47b7-c930-762f95c5ad37"
      },
      "source": [
        "y_pred=AlexNet.predict_classes(testing_X)\n",
        "y_true=np.argmax(testing_y,axis=1)\n",
        "\n",
        "from sklearn.metrics import accuracy_score\n",
        "acc_score = accuracy_score(y_true, y_pred)\n",
        "print('Accuracy Score = ', acc_score)"
      ],
      "execution_count": null,
      "outputs": [
        {
          "output_type": "stream",
          "text": [
            "/usr/local/lib/python3.7/dist-packages/tensorflow/python/keras/engine/sequential.py:450: UserWarning: `model.predict_classes()` is deprecated and will be removed after 2021-01-01. Please use instead:* `np.argmax(model.predict(x), axis=-1)`,   if your model does multi-class classification   (e.g. if it uses a `softmax` last-layer activation).* `(model.predict(x) > 0.5).astype(\"int32\")`,   if your model does binary classification   (e.g. if it uses a `sigmoid` last-layer activation).\n",
            "  warnings.warn('`model.predict_classes()` is deprecated and '\n"
          ],
          "name": "stderr"
        },
        {
          "output_type": "stream",
          "text": [
            "Accuracy Score =  0.8555851063829787\n"
          ],
          "name": "stdout"
        }
      ]
    },
    {
      "cell_type": "code",
      "metadata": {
        "colab": {
          "base_uri": "https://localhost:8080/"
        },
        "id": "l1Xwnz-DApoM",
        "outputId": "4ff055e2-8a31-472b-deaf-464f95578773"
      },
      "source": [
        "from sklearn.metrics import confusion_matrix\n",
        "\n",
        "confusion_matrix(y_true, y_pred)"
      ],
      "execution_count": null,
      "outputs": [
        {
          "output_type": "execute_result",
          "data": {
            "text/plain": [
              "array([[307,   0,   0, ...,   0,   0,   0],\n",
              "       [  0, 281,   0, ...,   0,   0,   1],\n",
              "       [  0,   0, 349, ...,   0,   0,   0],\n",
              "       ...,\n",
              "       [  0,   1,   0, ..., 227,   0,   0],\n",
              "       [  0,   0,   0, ...,   0, 361,   1],\n",
              "       [  0,   0,   0, ...,   0,   1, 338]])"
            ]
          },
          "metadata": {
            "tags": []
          },
          "execution_count": 23
        }
      ]
    },
    {
      "cell_type": "code",
      "metadata": {
        "id": "sXeJUh32eDA3"
      },
      "source": [
        "#!mkdir -p saved_model\n",
        "#AlexNet.save('saved_model/updated_alexnet') "
      ],
      "execution_count": null,
      "outputs": []
    },
    {
      "cell_type": "code",
      "metadata": {
        "id": "tM3yQenieHJW"
      },
      "source": [
        "#new_model = tf.keras.models.load_model('saved_model/my_model')\n",
        "\n",
        "# Check its architecture\n",
        "#new_model.summary()"
      ],
      "execution_count": null,
      "outputs": []
    },
    {
      "cell_type": "code",
      "metadata": {
        "id": "gzmjW5s0ePx0"
      },
      "source": [
        "#!ls saved_model\n"
      ],
      "execution_count": null,
      "outputs": []
    },
    {
      "cell_type": "code",
      "metadata": {
        "id": "4Fkdc9hSetbP"
      },
      "source": [
        "# Code to read csv file into Colaboratory:\n",
        "!pip install -U -q PyDrive\n",
        "from pydrive.auth import GoogleAuth\n",
        "from pydrive.drive import GoogleDrive\n",
        "from google.colab import auth\n",
        "from oauth2client.client import GoogleCredentials\n",
        "# Authenticate and create the PyDrive client.\n",
        "auth.authenticate_user()\n",
        "gauth = GoogleAuth()\n",
        "gauth.credentials = GoogleCredentials.get_application_default()\n",
        "drive = GoogleDrive(gauth)\n"
      ],
      "execution_count": null,
      "outputs": []
    },
    {
      "cell_type": "code",
      "metadata": {
        "id": "10BD1NR3KqDU"
      },
      "source": [
        "import pandas as pd\n",
        "id_data = '1N0wuTk3QFogaJ5zeqXI8TeJIucsYTfpz'\n",
        "downloaded = drive.CreateFile({'id':id_data}) \n",
        "downloaded.GetContentFile('char74.pkl')  \n",
        "df = pd.read_pickle('char74.pkl')"
      ],
      "execution_count": null,
      "outputs": []
    },
    {
      "cell_type": "code",
      "metadata": {
        "id": "ekqxfwESLhdD"
      },
      "source": [
        "images = df['X']\n",
        "labels = df['y']"
      ],
      "execution_count": null,
      "outputs": []
    },
    {
      "cell_type": "code",
      "metadata": {
        "id": "6ePsCNijy6lc",
        "colab": {
          "base_uri": "https://localhost:8080/"
        },
        "outputId": "99c3e6a4-2718-4232-9431-a6515116e92b"
      },
      "source": [
        "images.shape"
      ],
      "execution_count": null,
      "outputs": [
        {
          "output_type": "execute_result",
          "data": {
            "text/plain": [
              "(7700, 28, 28)"
            ]
          },
          "metadata": {
            "tags": []
          },
          "execution_count": 6
        }
      ]
    },
    {
      "cell_type": "code",
      "metadata": {
        "id": "C1pqFcFPQNil"
      },
      "source": [
        "from sklearn.model_selection import train_test_split\n",
        "train_X,test_X,train_y,test_y=train_test_split(images,labels,test_size=.4)"
      ],
      "execution_count": null,
      "outputs": []
    },
    {
      "cell_type": "code",
      "metadata": {
        "id": "EljWATclQfPl"
      },
      "source": [
        "val_X,test_X,val_y,test_y=train_test_split(test_X,test_y,test_size=.5)"
      ],
      "execution_count": null,
      "outputs": []
    },
    {
      "cell_type": "code",
      "metadata": {
        "colab": {
          "base_uri": "https://localhost:8080/"
        },
        "id": "ycq0f295SCaY",
        "outputId": "5a8f8b2d-7c03-429b-8712-21744d7ea11d"
      },
      "source": [
        "#Verifying the dimension after one hot encoding\n",
        "print((train_X.shape,train_y.shape))\n",
        "print((val_X.shape,val_y.shape))\n",
        "print((test_X.shape,test_y.shape))"
      ],
      "execution_count": null,
      "outputs": [
        {
          "output_type": "stream",
          "text": [
            "((4620, 28, 28), (4620,))\n",
            "((1540, 28, 28), (1540,))\n",
            "((1540, 28, 28), (1540,))\n"
          ],
          "name": "stdout"
        }
      ]
    },
    {
      "cell_type": "code",
      "metadata": {
        "id": "7CBXm_6rSSUu"
      },
      "source": [
        "import numpy as np\n",
        "train_X = np.expand_dims(train_X, axis=3)\n",
        "val_X = np.expand_dims(val_X, axis=3)\n",
        "test_X = np.expand_dims(test_X, axis=3)"
      ],
      "execution_count": null,
      "outputs": []
    },
    {
      "cell_type": "code",
      "metadata": {
        "colab": {
          "base_uri": "https://localhost:8080/"
        },
        "id": "D8s3yPmOSnBx",
        "outputId": "b47c1108-0225-468a-b4f1-ece9edfcb04a"
      },
      "source": [
        "#Verifying the dimension after one hot encoding\n",
        "print((train_X.shape,train_y.shape))\n",
        "print((val_X.shape,val_y.shape))\n",
        "print((test_X.shape,test_y.shape))"
      ],
      "execution_count": null,
      "outputs": [
        {
          "output_type": "stream",
          "text": [
            "((4620, 28, 28, 1), (4620,))\n",
            "((1540, 28, 28, 1), (1540,))\n",
            "((1540, 28, 28, 1), (1540,))\n"
          ],
          "name": "stdout"
        }
      ]
    },
    {
      "cell_type": "code",
      "metadata": {
        "id": "eT3LpUghUFYA"
      },
      "source": [
        "#Onehot Encoding the labels.\n",
        "from sklearn.utils.multiclass import unique_labels\n",
        "from keras.utils import to_categorical\n",
        "#Since we have 47 classes we should expect the shape[1] of y_train,y_val and y_test to change from 1 to 10\n",
        "train_y=to_categorical(train_y, num_classes = 62)\n",
        "val_y=to_categorical(val_y, num_classes = 62)\n",
        "test_y=to_categorical(test_y, num_classes = 62)"
      ],
      "execution_count": null,
      "outputs": []
    },
    {
      "cell_type": "code",
      "metadata": {
        "id": "cRu4OQzdSrfJ"
      },
      "source": [
        "#Image Data Augmentation\n",
        "from keras.preprocessing.image import ImageDataGenerator\n",
        "\n",
        "train_generator = ImageDataGenerator(rotation_range=2, horizontal_flip=True,zoom_range=.1 )\n",
        "\n",
        "val_generator = ImageDataGenerator(rotation_range=2, horizontal_flip=True,zoom_range=.1)\n",
        "\n",
        "test_generator = ImageDataGenerator(rotation_range=2, horizontal_flip= True,zoom_range=.1)\n",
        "\n",
        "#Fitting the augmentation defined above to the data\n",
        "train_generator.fit(train_X)\n",
        "val_generator.fit(val_X)\n",
        "test_generator.fit(test_X)"
      ],
      "execution_count": null,
      "outputs": []
    },
    {
      "cell_type": "code",
      "metadata": {
        "colab": {
          "base_uri": "https://localhost:8080/"
        },
        "id": "CK1iho4sSx3J",
        "outputId": "6960ff6c-0468-40a1-80e1-5e59e0d5a500"
      },
      "source": [
        "import tensorflow as tf\n",
        "import keras\n",
        "from keras.models import Sequential\n",
        "from keras.layers import Dense, Activation, Dropout, Flatten, Conv2D, MaxPooling2D\n",
        "from keras.layers.normalization import BatchNormalization\n",
        "import numpy as np\n",
        "\n",
        "np.random.seed(1000)\n",
        "\n",
        "#Instantiation\n",
        "AlexNet = Sequential()\n",
        "\n",
        "#1st Convolutional Layer\n",
        "AlexNet.add(Conv2D(filters=96, input_shape=(28,28,1), kernel_size=(11,11), strides=(4,4), padding='same'))\n",
        "AlexNet.add(BatchNormalization())\n",
        "AlexNet.add(Activation('relu'))\n",
        "AlexNet.add(MaxPooling2D(pool_size=(2,2), strides=(2,2), padding='same'))\n",
        "\n",
        "#2nd Convolutional Layer\n",
        "AlexNet.add(Conv2D(filters=256, kernel_size=(5, 5), strides=(1,1), padding='same'))\n",
        "AlexNet.add(BatchNormalization())\n",
        "AlexNet.add(Activation('relu'))\n",
        "AlexNet.add(MaxPooling2D(pool_size=(2,2), strides=(2,2), padding='same'))\n",
        "\n",
        "#3rd Convolutional Layer\n",
        "AlexNet.add(Conv2D(filters=384, kernel_size=(3,3), strides=(1,1), padding='same'))\n",
        "AlexNet.add(BatchNormalization())\n",
        "AlexNet.add(Activation('relu'))\n",
        "\n",
        "#4th Convolutional Layer\n",
        "AlexNet.add(Conv2D(filters=384, kernel_size=(3,3), strides=(1,1), padding='same'))\n",
        "AlexNet.add(BatchNormalization())\n",
        "AlexNet.add(Activation('relu'))\n",
        "\n",
        "#5th Convolutional Layer\n",
        "AlexNet.add(Conv2D(filters=256, kernel_size=(3,3), strides=(1,1), padding='same'))\n",
        "AlexNet.add(BatchNormalization())\n",
        "AlexNet.add(Activation('relu'))\n",
        "AlexNet.add(MaxPooling2D(pool_size=(2,2), strides=(2,2), padding='same'))\n",
        "\n",
        "#Passing it to a Fully Connected layer\n",
        "AlexNet.add(Flatten())\n",
        "# 1st Fully Connected Layer\n",
        "AlexNet.add(Dense(4096, input_shape=(28,28,1,)))\n",
        "AlexNet.add(BatchNormalization())\n",
        "AlexNet.add(Activation('relu'))\n",
        "# Add Dropout to prevent overfitting\n",
        "AlexNet.add(Dropout(0.4))\n",
        "\n",
        "#2nd Fully Connected Layer\n",
        "AlexNet.add(Dense(4096))\n",
        "AlexNet.add(BatchNormalization())\n",
        "AlexNet.add(Activation('relu'))\n",
        "#Add Dropout\n",
        "AlexNet.add(Dropout(0.4))\n",
        "\n",
        "#3rd Fully Connected Layer\n",
        "AlexNet.add(Dense(1000))\n",
        "AlexNet.add(BatchNormalization())\n",
        "AlexNet.add(Activation('relu'))\n",
        "#Add Dropout\n",
        "AlexNet.add(Dropout(0.4))\n",
        "\n",
        "#Output Layer\n",
        "AlexNet.add(Dense(62))\n",
        "AlexNet.add(BatchNormalization())\n",
        "AlexNet.add(Activation('softmax'))\n",
        "\n",
        "#Model Summary\n",
        "AlexNet.summary()"
      ],
      "execution_count": null,
      "outputs": [
        {
          "output_type": "stream",
          "text": [
            "Model: \"sequential\"\n",
            "_________________________________________________________________\n",
            "Layer (type)                 Output Shape              Param #   \n",
            "=================================================================\n",
            "conv2d (Conv2D)              (None, 7, 7, 96)          11712     \n",
            "_________________________________________________________________\n",
            "batch_normalization (BatchNo (None, 7, 7, 96)          384       \n",
            "_________________________________________________________________\n",
            "activation (Activation)      (None, 7, 7, 96)          0         \n",
            "_________________________________________________________________\n",
            "max_pooling2d (MaxPooling2D) (None, 4, 4, 96)          0         \n",
            "_________________________________________________________________\n",
            "conv2d_1 (Conv2D)            (None, 4, 4, 256)         614656    \n",
            "_________________________________________________________________\n",
            "batch_normalization_1 (Batch (None, 4, 4, 256)         1024      \n",
            "_________________________________________________________________\n",
            "activation_1 (Activation)    (None, 4, 4, 256)         0         \n",
            "_________________________________________________________________\n",
            "max_pooling2d_1 (MaxPooling2 (None, 2, 2, 256)         0         \n",
            "_________________________________________________________________\n",
            "conv2d_2 (Conv2D)            (None, 2, 2, 384)         885120    \n",
            "_________________________________________________________________\n",
            "batch_normalization_2 (Batch (None, 2, 2, 384)         1536      \n",
            "_________________________________________________________________\n",
            "activation_2 (Activation)    (None, 2, 2, 384)         0         \n",
            "_________________________________________________________________\n",
            "conv2d_3 (Conv2D)            (None, 2, 2, 384)         1327488   \n",
            "_________________________________________________________________\n",
            "batch_normalization_3 (Batch (None, 2, 2, 384)         1536      \n",
            "_________________________________________________________________\n",
            "activation_3 (Activation)    (None, 2, 2, 384)         0         \n",
            "_________________________________________________________________\n",
            "conv2d_4 (Conv2D)            (None, 2, 2, 256)         884992    \n",
            "_________________________________________________________________\n",
            "batch_normalization_4 (Batch (None, 2, 2, 256)         1024      \n",
            "_________________________________________________________________\n",
            "activation_4 (Activation)    (None, 2, 2, 256)         0         \n",
            "_________________________________________________________________\n",
            "max_pooling2d_2 (MaxPooling2 (None, 1, 1, 256)         0         \n",
            "_________________________________________________________________\n",
            "flatten (Flatten)            (None, 256)               0         \n",
            "_________________________________________________________________\n",
            "dense (Dense)                (None, 4096)              1052672   \n",
            "_________________________________________________________________\n",
            "batch_normalization_5 (Batch (None, 4096)              16384     \n",
            "_________________________________________________________________\n",
            "activation_5 (Activation)    (None, 4096)              0         \n",
            "_________________________________________________________________\n",
            "dropout (Dropout)            (None, 4096)              0         \n",
            "_________________________________________________________________\n",
            "dense_1 (Dense)              (None, 4096)              16781312  \n",
            "_________________________________________________________________\n",
            "batch_normalization_6 (Batch (None, 4096)              16384     \n",
            "_________________________________________________________________\n",
            "activation_6 (Activation)    (None, 4096)              0         \n",
            "_________________________________________________________________\n",
            "dropout_1 (Dropout)          (None, 4096)              0         \n",
            "_________________________________________________________________\n",
            "dense_2 (Dense)              (None, 1000)              4097000   \n",
            "_________________________________________________________________\n",
            "batch_normalization_7 (Batch (None, 1000)              4000      \n",
            "_________________________________________________________________\n",
            "activation_7 (Activation)    (None, 1000)              0         \n",
            "_________________________________________________________________\n",
            "dropout_2 (Dropout)          (None, 1000)              0         \n",
            "_________________________________________________________________\n",
            "dense_3 (Dense)              (None, 62)                62062     \n",
            "_________________________________________________________________\n",
            "batch_normalization_8 (Batch (None, 62)                248       \n",
            "_________________________________________________________________\n",
            "activation_8 (Activation)    (None, 62)                0         \n",
            "=================================================================\n",
            "Total params: 25,759,534\n",
            "Trainable params: 25,738,274\n",
            "Non-trainable params: 21,260\n",
            "_________________________________________________________________\n"
          ],
          "name": "stdout"
        }
      ]
    },
    {
      "cell_type": "code",
      "metadata": {
        "id": "YcPMaVmCTBBs"
      },
      "source": [
        "# Compiling the model\n",
        "AlexNet.compile(loss = keras.losses.categorical_crossentropy, optimizer= 'adam', metrics=['accuracy'])"
      ],
      "execution_count": null,
      "outputs": []
    },
    {
      "cell_type": "code",
      "metadata": {
        "id": "Vrm8mHFwTGYN"
      },
      "source": [
        "#Learning Rate Annealer\n",
        "from keras.callbacks import ReduceLROnPlateau\n",
        "lrr= ReduceLROnPlateau(monitor='val_accuracy', actor=.01, patience=3, min_lr=1e-5) \n",
        "early_stopping = tf.keras.callbacks.EarlyStopping(\n",
        "    monitor = 'val_loss', \n",
        "    patience = 10, \n",
        "    mode = 'auto')\n",
        "#Defining the parameters\n",
        "batch_size= 32\n",
        "epochs=200\n",
        "learn_rate=.0000025"
      ],
      "execution_count": null,
      "outputs": []
    },
    {
      "cell_type": "code",
      "metadata": {
        "colab": {
          "base_uri": "https://localhost:8080/"
        },
        "id": "tIsw69i9Tu2I",
        "outputId": "bef722c0-0344-43de-cbf8-1f25ba95ee7c"
      },
      "source": [
        "#Verifying the dimension after one hot encoding\n",
        "print((train_X.shape,train_y.shape))\n",
        "print((val_X.shape,val_y.shape))\n",
        "print((test_X.shape,test_y.shape))"
      ],
      "execution_count": null,
      "outputs": [
        {
          "output_type": "stream",
          "text": [
            "((4620, 28, 28, 1), (4620, 62))\n",
            "((1540, 28, 28, 1), (1540, 62))\n",
            "((1540, 28, 28, 1), (1540, 62))\n"
          ],
          "name": "stdout"
        }
      ]
    },
    {
      "cell_type": "code",
      "metadata": {
        "colab": {
          "base_uri": "https://localhost:8080/"
        },
        "id": "E8EgVKLGTZT5",
        "outputId": "c9cb26d3-2071-401d-a503-51a0b836ab44"
      },
      "source": [
        "#Training the model\n",
        "AlexNet.fit_generator(train_generator.flow(train_X, train_y, batch_size=batch_size), epochs = epochs,  steps_per_epoch = train_X.shape[0]//batch_size,\n",
        "                      validation_data = val_generator.flow(val_X, val_y, batch_size=batch_size), validation_steps =  val_X.shape[0]//batch_size, \n",
        "                      callbacks = [lrr, early_stopping], verbose=1)"
      ],
      "execution_count": null,
      "outputs": [
        {
          "output_type": "stream",
          "text": [
            "Epoch 1/200\n",
            "  7/144 [>.............................] - ETA: 2s - loss: 1.2564 - accuracy: 0.6741"
          ],
          "name": "stdout"
        },
        {
          "output_type": "stream",
          "text": [
            "/usr/local/lib/python3.7/dist-packages/tensorflow/python/keras/engine/training.py:1844: UserWarning: `Model.fit_generator` is deprecated and will be removed in a future version. Please use `Model.fit`, which supports generators.\n",
            "  warnings.warn('`Model.fit_generator` is deprecated and '\n"
          ],
          "name": "stderr"
        },
        {
          "output_type": "stream",
          "text": [
            "144/144 [==============================] - 3s 18ms/step - loss: 1.2129 - accuracy: 0.6798 - val_loss: 1.1032 - val_accuracy: 0.6888\n",
            "Epoch 2/200\n",
            "144/144 [==============================] - 3s 18ms/step - loss: 1.2080 - accuracy: 0.6794 - val_loss: 1.0943 - val_accuracy: 0.6934\n",
            "Epoch 3/200\n",
            "144/144 [==============================] - 3s 18ms/step - loss: 1.1812 - accuracy: 0.6831 - val_loss: 1.0941 - val_accuracy: 0.6868\n",
            "Epoch 4/200\n",
            "144/144 [==============================] - 3s 18ms/step - loss: 1.1888 - accuracy: 0.6840 - val_loss: 1.0934 - val_accuracy: 0.6816\n",
            "Epoch 5/200\n",
            "144/144 [==============================] - 3s 18ms/step - loss: 1.2306 - accuracy: 0.6704 - val_loss: 1.0998 - val_accuracy: 0.6908\n",
            "Epoch 6/200\n",
            "144/144 [==============================] - 3s 17ms/step - loss: 1.2115 - accuracy: 0.6691 - val_loss: 1.0977 - val_accuracy: 0.6914\n",
            "Epoch 7/200\n",
            "144/144 [==============================] - 3s 18ms/step - loss: 1.1822 - accuracy: 0.6914 - val_loss: 1.1007 - val_accuracy: 0.6836\n",
            "Epoch 8/200\n",
            "144/144 [==============================] - 3s 18ms/step - loss: 1.1951 - accuracy: 0.6789 - val_loss: 1.1036 - val_accuracy: 0.6842\n",
            "Epoch 9/200\n",
            "144/144 [==============================] - 3s 18ms/step - loss: 1.1693 - accuracy: 0.6905 - val_loss: 1.0757 - val_accuracy: 0.6940\n",
            "Epoch 10/200\n",
            "144/144 [==============================] - 3s 18ms/step - loss: 1.1854 - accuracy: 0.6829 - val_loss: 1.1128 - val_accuracy: 0.6868\n",
            "Epoch 11/200\n",
            "144/144 [==============================] - 3s 18ms/step - loss: 1.1806 - accuracy: 0.6859 - val_loss: 1.0939 - val_accuracy: 0.6842\n",
            "Epoch 12/200\n",
            "144/144 [==============================] - 3s 18ms/step - loss: 1.2001 - accuracy: 0.6824 - val_loss: 1.0886 - val_accuracy: 0.6966\n",
            "Epoch 13/200\n",
            "144/144 [==============================] - 3s 18ms/step - loss: 1.1729 - accuracy: 0.6920 - val_loss: 1.0927 - val_accuracy: 0.6901\n",
            "Epoch 14/200\n",
            "144/144 [==============================] - 3s 18ms/step - loss: 1.1855 - accuracy: 0.6848 - val_loss: 1.1108 - val_accuracy: 0.6868\n",
            "Epoch 15/200\n",
            "144/144 [==============================] - 3s 18ms/step - loss: 1.1686 - accuracy: 0.6999 - val_loss: 1.1083 - val_accuracy: 0.6842\n",
            "Epoch 16/200\n",
            "144/144 [==============================] - 3s 17ms/step - loss: 1.1629 - accuracy: 0.6949 - val_loss: 1.1006 - val_accuracy: 0.6888\n",
            "Epoch 17/200\n",
            "144/144 [==============================] - 3s 18ms/step - loss: 1.1671 - accuracy: 0.6929 - val_loss: 1.0924 - val_accuracy: 0.6966\n",
            "Epoch 18/200\n",
            "144/144 [==============================] - 3s 18ms/step - loss: 1.1564 - accuracy: 0.6979 - val_loss: 1.0928 - val_accuracy: 0.6882\n",
            "Epoch 19/200\n",
            "144/144 [==============================] - 3s 18ms/step - loss: 1.1815 - accuracy: 0.6916 - val_loss: 1.0850 - val_accuracy: 0.6888\n"
          ],
          "name": "stdout"
        },
        {
          "output_type": "execute_result",
          "data": {
            "text/plain": [
              "<tensorflow.python.keras.callbacks.History at 0x7f3cfd25f1d0>"
            ]
          },
          "metadata": {
            "tags": []
          },
          "execution_count": 20
        }
      ]
    },
    {
      "cell_type": "code",
      "metadata": {
        "colab": {
          "base_uri": "https://localhost:8080/",
          "height": 282
        },
        "id": "MsEnEqIqTb0k",
        "outputId": "df3157a8-38a2-4fae-f997-d2d543e8060a"
      },
      "source": [
        "import matplotlib.pyplot as plt\n",
        "#Plotting the training and validation loss\n",
        "\n",
        "f,ax=plt.subplots(2,1) #Creates 2 subplots under 1 column\n",
        "\n",
        "#Assigning the first subplot to graph training loss and validation loss\n",
        "ax[0].plot(AlexNet.history.history['loss'],color='b',label='Training Loss')\n",
        "ax[0].plot(AlexNet.history.history['val_loss'],color='r',label='Validation Loss')\n",
        "\n",
        "#Plotting the training accuracy and validation accuracy\n",
        "ax[1].plot(AlexNet.history.history['accuracy'],color='b',label='Training  Accuracy')\n",
        "ax[1].plot(AlexNet.history.history['val_accuracy'],color='r',label='Validation Accuracy')\n",
        "\n",
        "plt.legend()"
      ],
      "execution_count": null,
      "outputs": [
        {
          "output_type": "execute_result",
          "data": {
            "text/plain": [
              "<matplotlib.legend.Legend at 0x7f3cfd13ead0>"
            ]
          },
          "metadata": {
            "tags": []
          },
          "execution_count": 21
        },
        {
          "output_type": "display_data",
          "data": {
            "image/png": "[encoded data removed]",
            "text/plain": [
              "<Figure size 432x288 with 2 Axes>"
            ]
          },
          "metadata": {
            "tags": [],
            "needs_background": "light"
          }
        }
      ]
    },
    {
      "cell_type": "code",
      "metadata": {
        "id": "_kJpKfvZVZ28",
        "colab": {
          "base_uri": "https://localhost:8080/"
        },
        "outputId": "72cf8252-3a7b-418b-f150-a0c379e0e95e"
      },
      "source": [
        "y_pred=AlexNet.predict_classes(test_X)\n",
        "y_true=np.argmax(test_y,axis=1)\n",
        "\n",
        "from sklearn.metrics import accuracy_score\n",
        "acc_score = accuracy_score(y_true, y_pred)\n",
        "print('Accuracy Score = ', acc_score)"
      ],
      "execution_count": null,
      "outputs": [
        {
          "output_type": "stream",
          "text": [
            "/usr/local/lib/python3.7/dist-packages/tensorflow/python/keras/engine/sequential.py:450: UserWarning: `model.predict_classes()` is deprecated and will be removed after 2021-01-01. Please use instead:* `np.argmax(model.predict(x), axis=-1)`,   if your model does multi-class classification   (e.g. if it uses a `softmax` last-layer activation).* `(model.predict(x) > 0.5).astype(\"int32\")`,   if your model does binary classification   (e.g. if it uses a `sigmoid` last-layer activation).\n",
            "  warnings.warn('`model.predict_classes()` is deprecated and '\n"
          ],
          "name": "stderr"
        },
        {
          "output_type": "stream",
          "text": [
            "Accuracy Score =  0.6928571428571428\n"
          ],
          "name": "stdout"
        }
      ]
    },
    {
      "cell_type": "code",
      "metadata": {
        "id": "K3WeOwv7Qu8H",
        "colab": {
          "base_uri": "https://localhost:8080/"
        },
        "outputId": "efad7b14-09de-4164-d1ed-77e8e9991d90"
      },
      "source": [
        "!mkdir -p saved_model\n",
        "AlexNet.save('saved_model/updated_alexnet') "
      ],
      "execution_count": null,
      "outputs": [
        {
          "output_type": "stream",
          "text": [
            "INFO:tensorflow:Assets written to: saved_model/updated_alexnet/assets\n"
          ],
          "name": "stdout"
        }
      ]
    },
    {
      "cell_type": "code",
      "metadata": {
        "id": "K7WyHTp-Qu40"
      },
      "source": [
        ""
      ],
      "execution_count": null,
      "outputs": []
    }
  ]
}