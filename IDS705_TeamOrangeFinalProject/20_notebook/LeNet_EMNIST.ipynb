{
 "cells": [
  {
   "cell_type": "code",
   "execution_count": 17,
   "metadata": {},
   "outputs": [],
   "source": [
    "import tensorflow as tf\n",
    "import pandas as pd\n",
    "import numpy as np\n",
    "from sklearn.model_selection import train_test_split"
   ]
  },
  {
   "cell_type": "code",
   "execution_count": 18,
   "metadata": {},
   "outputs": [],
   "source": [
    "train_data = pd.read_csv('./emnist-balanced-train.csv', header = None)\n",
    "val_data = pd.read_csv('./emnist-balanced-test.csv', header = None)"
   ]
  },
  {
   "cell_type": "code",
   "execution_count": 81,
   "metadata": {},
   "outputs": [],
   "source": [
    "X_train = train_data.iloc[:, 1:].to_numpy().reshape(-1, 28, 28, 1)\n",
    "y_train = train_data.iloc[:, 0].to_numpy()\n",
    "\n",
    "X_val = val_data.iloc[:, 1:].to_numpy().reshape(-1, 28, 28, 1)\n",
    "y_val = val_data.iloc[:, 0].to_numpy()"
   ]
  },
  {
   "cell_type": "markdown",
   "metadata": {},
   "source": [
    "## create mapping"
   ]
  },
  {
   "cell_type": "code",
   "execution_count": 113,
   "metadata": {},
   "outputs": [],
   "source": [
    "import string\n",
    "nums = list(string.digits)\n",
    "upper = list(string.ascii_uppercase)\n",
    "lower = list('abdefghnqrt')\n",
    "classes = nums + upper + lower\n",
    "\n",
    "mapping = {}\n",
    "for i, value in enumerate(classes):\n",
    "    mapping[i] = value\n",
    "    pass"
   ]
  },
  {
   "cell_type": "markdown",
   "metadata": {},
   "source": [
    "## visualize dataset"
   ]
  },
  {
   "cell_type": "code",
   "execution_count": 22,
   "metadata": {},
   "outputs": [],
   "source": [
    "import matplotlib.pyplot as plt"
   ]
  },
  {
   "cell_type": "code",
   "execution_count": 114,
   "metadata": {},
   "outputs": [
    {
     "data": {
      "image/png": "[encoded data removed]",
      "text/plain": [
       "<Figure size 1440x576 with 10 Axes>"
      ]
     },
     "metadata": {
      "needs_background": "light"
     },
     "output_type": "display_data"
    }
   ],
   "source": [
    "plt.figure(figsize = (20, 8))\n",
    "for i in range(10):\n",
    "    plt.subplot(2, 5, i+1)\n",
    "    plt.imshow(X_train[i].reshape(28, 28), cmap = 'gray')\n",
    "    plt.title('{}'.format(mapping[y_train[i]]))\n",
    "    plt.axis('off')\n",
    "    pass\n",
    "plt.show()"
   ]
  },
  {
   "cell_type": "markdown",
   "metadata": {},
   "source": [
    "## create dataset"
   ]
  },
  {
   "cell_type": "code",
   "execution_count": 82,
   "metadata": {},
   "outputs": [],
   "source": [
    "train_dataset = tf.data.Dataset.from_tensor_slices((X_train, y_train))\n",
    "test_dataset = tf.data.Dataset.from_tensor_slices((X_val, y_val))"
   ]
  },
  {
   "cell_type": "code",
   "execution_count": 83,
   "metadata": {},
   "outputs": [],
   "source": [
    "BATCH_SIZE = 64\n",
    "SHUFFLE_BUFFER_SIZE = 100\n",
    "\n",
    "train_dataset = train_dataset.shuffle(SHUFFLE_BUFFER_SIZE).batch(BATCH_SIZE)\n",
    "test_dataset = test_dataset.batch(BATCH_SIZE)"
   ]
  },
  {
   "cell_type": "code",
   "execution_count": 84,
   "metadata": {},
   "outputs": [
    {
     "data": {
      "text/plain": [
       "<BatchDataset shapes: ((None, 28, 28, 1), (None,)), types: (tf.int64, tf.int64)>"
      ]
     },
     "execution_count": 84,
     "metadata": {},
     "output_type": "execute_result"
    }
   ],
   "source": [
    "train_dataset"
   ]
  },
  {
   "cell_type": "markdown",
   "metadata": {},
   "source": [
    "## train model"
   ]
  },
  {
   "cell_type": "code",
   "execution_count": 100,
   "metadata": {},
   "outputs": [],
   "source": [
    "model = tf.keras.models.Sequential([\n",
    "    tf.keras.layers.Conv2D(6, (5, 5), activation = 'relu', input_shape = (28, 28, 1), name = '1st_conv'),\n",
    "    tf.keras.layers.AveragePooling2D(2, 2, name = '1st_pooling'),\n",
    "    tf.keras.layers.Conv2D(16, (5, 5), activation = 'relu', name = '2nd_conv'),\n",
    "    tf.keras.layers.AveragePooling2D(2, 2, name = '2nd_pooling'),\n",
    "    tf.keras.layers.Flatten(name = 'flatten'),\n",
    "    tf.keras.layers.Dropout(0.5, name = '1st_dropout'),\n",
    "    tf.keras.layers.Dense(120,activation='relu', name = '1st_fc'),\n",
    "    tf.keras.layers.Dense(84,activation='relu', name = '2nd_fc'),\n",
    "    tf.keras.layers.Dense(47, name = '3rd_fc')\n",
    "])"
   ]
  },
  {
   "cell_type": "code",
   "execution_count": 101,
   "metadata": {},
   "outputs": [
    {
     "name": "stdout",
     "output_type": "stream",
     "text": [
      "Model: \"sequential_19\"\n",
      "_________________________________________________________________\n",
      "Layer (type)                 Output Shape              Param #   \n",
      "=================================================================\n",
      "1st_conv (Conv2D)            (None, 24, 24, 6)         156       \n",
      "_________________________________________________________________\n",
      "1st_pooling (AveragePooling2 (None, 12, 12, 6)         0         \n",
      "_________________________________________________________________\n",
      "2nd_conv (Conv2D)            (None, 8, 8, 16)          2416      \n",
      "_________________________________________________________________\n",
      "2nd_pooling (AveragePooling2 (None, 4, 4, 16)          0         \n",
      "_________________________________________________________________\n",
      "flatten (Flatten)            (None, 256)               0         \n",
      "_________________________________________________________________\n",
      "1st_dropout (Dropout)        (None, 256)               0         \n",
      "_________________________________________________________________\n",
      "1st_fc (Dense)               (None, 120)               30840     \n",
      "_________________________________________________________________\n",
      "2nd_fc (Dense)               (None, 84)                10164     \n",
      "_________________________________________________________________\n",
      "3rd_fc (Dense)               (None, 47)                3995      \n",
      "=================================================================\n",
      "Total params: 47,571\n",
      "Trainable params: 47,571\n",
      "Non-trainable params: 0\n",
      "_________________________________________________________________\n"
     ]
    }
   ],
   "source": [
    "model.summary()"
   ]
  },
  {
   "cell_type": "code",
   "execution_count": 102,
   "metadata": {},
   "outputs": [],
   "source": [
    "model.compile(\n",
    "    optimizer=tf.keras.optimizers.Adam(0.001),\n",
    "    loss=tf.keras.losses.SparseCategoricalCrossentropy(from_logits=True),\n",
    "    metrics=[tf.keras.metrics.SparseCategoricalAccuracy()],\n",
    ")\n",
    "\n",
    "callbacks = tf.keras.callbacks.EarlyStopping(\n",
    "    monitor = 'val_sparse_categorical_accuracy', \n",
    "    patience = 5, \n",
    "    mode = 'auto'\n",
    ")"
   ]
  },
  {
   "cell_type": "code",
   "execution_count": 103,
   "metadata": {},
   "outputs": [
    {
     "name": "stdout",
     "output_type": "stream",
     "text": [
      "Epoch 1/50\n",
      "1763/1763 [==============================] - 29s 16ms/step - loss: 1.8543 - sparse_categorical_accuracy: 0.5048 - val_loss: 0.6843 - val_sparse_categorical_accuracy: 0.7819\n",
      "Epoch 2/50\n",
      "1763/1763 [==============================] - 29s 17ms/step - loss: 0.8541 - sparse_categorical_accuracy: 0.7244 - val_loss: 0.5413 - val_sparse_categorical_accuracy: 0.8185\n",
      "Epoch 3/50\n",
      "1763/1763 [==============================] - 34s 20ms/step - loss: 0.7247 - sparse_categorical_accuracy: 0.7601 - val_loss: 0.4852 - val_sparse_categorical_accuracy: 0.8344\n",
      "Epoch 4/50\n",
      "1763/1763 [==============================] - 34s 19ms/step - loss: 0.6670 - sparse_categorical_accuracy: 0.7781 - val_loss: 0.4605 - val_sparse_categorical_accuracy: 0.8435\n",
      "Epoch 5/50\n",
      "1763/1763 [==============================] - 30s 17ms/step - loss: 0.6293 - sparse_categorical_accuracy: 0.7879 - val_loss: 0.4440 - val_sparse_categorical_accuracy: 0.8471\n",
      "Epoch 6/50\n",
      "1763/1763 [==============================] - 29s 17ms/step - loss: 0.5995 - sparse_categorical_accuracy: 0.7964 - val_loss: 0.4393 - val_sparse_categorical_accuracy: 0.8482\n",
      "Epoch 7/50\n",
      "1763/1763 [==============================] - 34s 19ms/step - loss: 0.5861 - sparse_categorical_accuracy: 0.8010 - val_loss: 0.4390 - val_sparse_categorical_accuracy: 0.8448\n",
      "Epoch 8/50\n",
      "1763/1763 [==============================] - 27s 16ms/step - loss: 0.5716 - sparse_categorical_accuracy: 0.8042 - val_loss: 0.4167 - val_sparse_categorical_accuracy: 0.8559\n",
      "Epoch 9/50\n",
      "1763/1763 [==============================] - 33s 19ms/step - loss: 0.5536 - sparse_categorical_accuracy: 0.8098 - val_loss: 0.4228 - val_sparse_categorical_accuracy: 0.8537\n",
      "Epoch 10/50\n",
      "1763/1763 [==============================] - 36s 20ms/step - loss: 0.5431 - sparse_categorical_accuracy: 0.8135 - val_loss: 0.4109 - val_sparse_categorical_accuracy: 0.8559\n",
      "Epoch 11/50\n",
      "1763/1763 [==============================] - 26s 15ms/step - loss: 0.5363 - sparse_categorical_accuracy: 0.8155 - val_loss: 0.4116 - val_sparse_categorical_accuracy: 0.8570\n",
      "Epoch 12/50\n",
      "1763/1763 [==============================] - 26s 15ms/step - loss: 0.5298 - sparse_categorical_accuracy: 0.8170 - val_loss: 0.4065 - val_sparse_categorical_accuracy: 0.8588\n",
      "Epoch 13/50\n",
      "1763/1763 [==============================] - 26s 15ms/step - loss: 0.5261 - sparse_categorical_accuracy: 0.8189 - val_loss: 0.4044 - val_sparse_categorical_accuracy: 0.8554\n",
      "Epoch 14/50\n",
      "1763/1763 [==============================] - 36s 20ms/step - loss: 0.5165 - sparse_categorical_accuracy: 0.8206 - val_loss: 0.3994 - val_sparse_categorical_accuracy: 0.8552\n",
      "Epoch 15/50\n",
      "1763/1763 [==============================] - 43s 25ms/step - loss: 0.5156 - sparse_categorical_accuracy: 0.8214 - val_loss: 0.4037 - val_sparse_categorical_accuracy: 0.8574\n",
      "Epoch 16/50\n",
      "1763/1763 [==============================] - 34s 19ms/step - loss: 0.5109 - sparse_categorical_accuracy: 0.8221 - val_loss: 0.3942 - val_sparse_categorical_accuracy: 0.8597\n",
      "Epoch 17/50\n",
      "1763/1763 [==============================] - 30s 17ms/step - loss: 0.5059 - sparse_categorical_accuracy: 0.8228 - val_loss: 0.3990 - val_sparse_categorical_accuracy: 0.8627\n",
      "Epoch 18/50\n",
      "1763/1763 [==============================] - 29s 16ms/step - loss: 0.5030 - sparse_categorical_accuracy: 0.8241 - val_loss: 0.4010 - val_sparse_categorical_accuracy: 0.8584\n",
      "Epoch 19/50\n",
      "1763/1763 [==============================] - 29s 16ms/step - loss: 0.4983 - sparse_categorical_accuracy: 0.8264 - val_loss: 0.3959 - val_sparse_categorical_accuracy: 0.8610\n",
      "Epoch 20/50\n",
      "1763/1763 [==============================] - 29s 16ms/step - loss: 0.4957 - sparse_categorical_accuracy: 0.8260 - val_loss: 0.3941 - val_sparse_categorical_accuracy: 0.8618\n",
      "Epoch 21/50\n",
      "1763/1763 [==============================] - 30s 17ms/step - loss: 0.4964 - sparse_categorical_accuracy: 0.8278 - val_loss: 0.3941 - val_sparse_categorical_accuracy: 0.8606\n",
      "Epoch 22/50\n",
      "1763/1763 [==============================] - 31s 18ms/step - loss: 0.4963 - sparse_categorical_accuracy: 0.8271 - val_loss: 0.3932 - val_sparse_categorical_accuracy: 0.8605\n"
     ]
    },
    {
     "data": {
      "text/plain": [
       "<tensorflow.python.keras.callbacks.History at 0x14919b510>"
      ]
     },
     "execution_count": 103,
     "metadata": {},
     "output_type": "execute_result"
    }
   ],
   "source": [
    "model.fit(\n",
    "    train_dataset,\n",
    "    epochs=50,\n",
    "    callbacks = [callbacks],\n",
    "    validation_data=test_dataset,\n",
    ")"
   ]
  },
  {
   "cell_type": "code",
   "execution_count": null,
   "metadata": {},
   "outputs": [],
   "source": []
  }
 ],
 "metadata": {
  "kernelspec": {
   "display_name": "Python 3",
   "language": "python",
   "name": "python3"
  },
  "language_info": {
   "codemirror_mode": {
    "name": "ipython",
    "version": 3
   },
   "file_extension": ".py",
   "mimetype": "text/x-python",
   "name": "python",
   "nbconvert_exporter": "python",
   "pygments_lexer": "ipython3",
   "version": "3.7.6"
  }
 },
 "nbformat": 4,
 "nbformat_minor": 4
}
